{
 "cells": [
  {
   "cell_type": "code",
   "execution_count": 204,
   "id": "41a84736",
   "metadata": {},
   "outputs": [],
   "source": [
    "# importing libraries  \n",
    "import pandas as pd\n",
    "import numpy as np\n",
    "import matplotlib.pyplot as plt \n",
    "plt.rc(\"font\", size=14)\n",
    "from sklearn.model_selection import train_test_split\n",
    "import seaborn as sns \n",
    "sns.set(style=\"white\")\n",
    "sns.set(style=\"whitegrid\", color_codes=True)\n",
    "from sklearn import preprocessing\n",
    "from sklearn import metrics\n",
    "from sklearn.linear_model import LogisticRegression\n",
    "from sklearn.preprocessing import MinMaxScaler\n",
    "from sklearn.preprocessing import StandardScaler\n",
    "from sklearn.metrics import classification_report\n",
    "from sklearn.metrics import roc_curve, roc_auc_score\n",
    "from sklearn.metrics import confusion_matrix"
   ]
  },
  {
   "cell_type": "code",
   "execution_count": 205,
   "id": "34945094",
   "metadata": {},
   "outputs": [],
   "source": [
    "#Loading Data Using Pandas"
   ]
  },
  {
   "cell_type": "code",
   "execution_count": 206,
   "id": "7312d9ff",
   "metadata": {},
   "outputs": [
    {
     "name": "stdout",
     "output_type": "stream",
     "text": [
      "(891469, 10)\n",
      "['Step', 'transactionType', 'Amount', 'startingClient', 'oldBalStartingClient', 'newBalStartingClient', 'destinationClient', 'oldBalDestClient', 'newBalDestClient', 'isfraud']\n"
     ]
    }
   ],
   "source": [
    "data = pd.read_csv('DirectDepositFraud_Data.csv')\n",
    "print(data.shape)\n",
    "print(list(data.columns))"
   ]
  },
  {
   "cell_type": "code",
   "execution_count": 207,
   "id": "2c9bcefb",
   "metadata": {},
   "outputs": [
    {
     "data": {
      "text/html": [
       "<div>\n",
       "<style scoped>\n",
       "    .dataframe tbody tr th:only-of-type {\n",
       "        vertical-align: middle;\n",
       "    }\n",
       "\n",
       "    .dataframe tbody tr th {\n",
       "        vertical-align: top;\n",
       "    }\n",
       "\n",
       "    .dataframe thead th {\n",
       "        text-align: right;\n",
       "    }\n",
       "</style>\n",
       "<table border=\"1\" class=\"dataframe\">\n",
       "  <thead>\n",
       "    <tr style=\"text-align: right;\">\n",
       "      <th></th>\n",
       "      <th>Step</th>\n",
       "      <th>transactionType</th>\n",
       "      <th>Amount</th>\n",
       "      <th>startingClient</th>\n",
       "      <th>oldBalStartingClient</th>\n",
       "      <th>newBalStartingClient</th>\n",
       "      <th>destinationClient</th>\n",
       "      <th>oldBalDestClient</th>\n",
       "      <th>newBalDestClient</th>\n",
       "      <th>isfraud</th>\n",
       "    </tr>\n",
       "  </thead>\n",
       "  <tbody>\n",
       "    <tr>\n",
       "      <th>0</th>\n",
       "      <td>0</td>\n",
       "      <td>DEPOSIT</td>\n",
       "      <td>19029.53</td>\n",
       "      <td>4633744264492440</td>\n",
       "      <td>81.87</td>\n",
       "      <td>19111.39</td>\n",
       "      <td>92-0000018</td>\n",
       "      <td>0.0</td>\n",
       "      <td>0.0</td>\n",
       "      <td>1</td>\n",
       "    </tr>\n",
       "    <tr>\n",
       "      <th>1</th>\n",
       "      <td>0</td>\n",
       "      <td>DEPOSIT</td>\n",
       "      <td>18695.67</td>\n",
       "      <td>4510557354806580</td>\n",
       "      <td>10.16</td>\n",
       "      <td>18705.83</td>\n",
       "      <td>90-0003579</td>\n",
       "      <td>0.0</td>\n",
       "      <td>0.0</td>\n",
       "      <td>1</td>\n",
       "    </tr>\n",
       "    <tr>\n",
       "      <th>2</th>\n",
       "      <td>0</td>\n",
       "      <td>DEPOSIT</td>\n",
       "      <td>19614.70</td>\n",
       "      <td>4486709191799490</td>\n",
       "      <td>11472.76</td>\n",
       "      <td>31087.45</td>\n",
       "      <td>99-0004489</td>\n",
       "      <td>0.0</td>\n",
       "      <td>0.0</td>\n",
       "      <td>1</td>\n",
       "    </tr>\n",
       "    <tr>\n",
       "      <th>3</th>\n",
       "      <td>0</td>\n",
       "      <td>DEPOSIT</td>\n",
       "      <td>18428.60</td>\n",
       "      <td>4437666409261360</td>\n",
       "      <td>18919.85</td>\n",
       "      <td>37348.45</td>\n",
       "      <td>11-0004423</td>\n",
       "      <td>0.0</td>\n",
       "      <td>0.0</td>\n",
       "      <td>1</td>\n",
       "    </tr>\n",
       "    <tr>\n",
       "      <th>4</th>\n",
       "      <td>0</td>\n",
       "      <td>DEPOSIT</td>\n",
       "      <td>18437.70</td>\n",
       "      <td>4716113455799250</td>\n",
       "      <td>14.37</td>\n",
       "      <td>18452.06</td>\n",
       "      <td>56-0008928</td>\n",
       "      <td>0.0</td>\n",
       "      <td>0.0</td>\n",
       "      <td>1</td>\n",
       "    </tr>\n",
       "  </tbody>\n",
       "</table>\n",
       "</div>"
      ],
      "text/plain": [
       "   Step transactionType    Amount    startingClient  oldBalStartingClient   \n",
       "0     0         DEPOSIT  19029.53  4633744264492440                 81.87  \\\n",
       "1     0         DEPOSIT  18695.67  4510557354806580                 10.16   \n",
       "2     0         DEPOSIT  19614.70  4486709191799490              11472.76   \n",
       "3     0         DEPOSIT  18428.60  4437666409261360              18919.85   \n",
       "4     0         DEPOSIT  18437.70  4716113455799250                 14.37   \n",
       "\n",
       "   newBalStartingClient destinationClient  oldBalDestClient  newBalDestClient   \n",
       "0              19111.39        92-0000018               0.0               0.0  \\\n",
       "1              18705.83        90-0003579               0.0               0.0   \n",
       "2              31087.45        99-0004489               0.0               0.0   \n",
       "3              37348.45        11-0004423               0.0               0.0   \n",
       "4              18452.06        56-0008928               0.0               0.0   \n",
       "\n",
       "   isfraud  \n",
       "0        1  \n",
       "1        1  \n",
       "2        1  \n",
       "3        1  \n",
       "4        1  "
      ]
     },
     "execution_count": 207,
     "metadata": {},
     "output_type": "execute_result"
    }
   ],
   "source": [
    "data.head()"
   ]
  },
  {
   "cell_type": "code",
   "execution_count": 208,
   "id": "ea76e868",
   "metadata": {},
   "outputs": [
    {
     "data": {
      "text/plain": [
       "(891469, 10)"
      ]
     },
     "execution_count": 208,
     "metadata": {},
     "output_type": "execute_result"
    }
   ],
   "source": [
    "data.shape"
   ]
  },
  {
   "cell_type": "code",
   "execution_count": 209,
   "id": "750a7b18",
   "metadata": {},
   "outputs": [
    {
     "data": {
      "text/plain": [
       "isfraud\n",
       "0    502797\n",
       "1    388672\n",
       "Name: count, dtype: int64"
      ]
     },
     "execution_count": 209,
     "metadata": {},
     "output_type": "execute_result"
    }
   ],
   "source": [
    "data['isfraud'].value_counts()"
   ]
  },
  {
   "cell_type": "code",
   "execution_count": 210,
   "id": "2f9450b3",
   "metadata": {},
   "outputs": [
    {
     "data": {
      "image/png": "[encoded data removed]",
      "text/plain": [
       "<Figure size 640x480 with 1 Axes>"
      ]
     },
     "metadata": {},
     "output_type": "display_data"
    },
    {
     "data": {
      "text/plain": [
       "<Figure size 640x480 with 0 Axes>"
      ]
     },
     "metadata": {},
     "output_type": "display_data"
    }
   ],
   "source": [
    "#Class Composition Check\n",
    "sns.countplot(x='isfraud',data=data, palette='hls')\n",
    "plt.show()\n",
    "plt.savefig('count_plot')"
   ]
  },
  {
   "cell_type": "code",
   "execution_count": 211,
   "id": "76b799db",
   "metadata": {},
   "outputs": [
    {
     "name": "stdout",
     "output_type": "stream",
     "text": [
      "percentage of no fraud is 56.40095168760776\n",
      "percentage of fraud 43.59904831239224\n"
     ]
    }
   ],
   "source": [
    "count_no_fraud = len(data[data['isfraud']==0])\n",
    "count_fraud = len(data[data['isfraud']==1])\n",
    "pct_of_no_fraud = count_no_fraud/(count_no_fraud+count_fraud)\n",
    "print(\"percentage of no fraud is\", pct_of_no_fraud*100)\n",
    "pct_of_fraud = count_fraud/(count_no_fraud+count_fraud)\n",
    "print(\"percentage of fraud\", pct_of_fraud*100)"
   ]
  },
  {
   "cell_type": "code",
   "execution_count": 212,
   "id": "48704ce4",
   "metadata": {
    "scrolled": true
   },
   "outputs": [
    {
     "data": {
      "text/plain": [
       "transactionType  isfraud\n",
       "DEBIT            0            4380\n",
       "DEPOSIT          1          388672\n",
       "                 0          315006\n",
       "PAYMENT          0           80592\n",
       "TRANSFER         0           20539\n",
       "WITHDRAWAL       0           82280\n",
       "Name: count, dtype: int64"
      ]
     },
     "execution_count": 212,
     "metadata": {},
     "output_type": "execute_result"
    }
   ],
   "source": [
    "data.groupby('transactionType')['isfraud'].value_counts()"
   ]
  },
  {
   "cell_type": "code",
   "execution_count": 213,
   "id": "1be06bfa",
   "metadata": {},
   "outputs": [
    {
     "data": {
      "image/png": "[encoded data removed]",
      "text/plain": [
       "<Figure size 640x480 with 1 Axes>"
      ]
     },
     "metadata": {},
     "output_type": "display_data"
    }
   ],
   "source": [
    "%matplotlib inline\n",
    "pd.crosstab(data.transactionType,data.isfraud).plot(kind='bar')\n",
    "plt.title('Frequency of Fraud per TransactionType')\n",
    "plt.xlabel('transactionType')\n",
    "plt.ylabel('No of Transactions')\n",
    "plt.savefig('Action_fraud_istance')"
   ]
  },
  {
   "cell_type": "code",
   "execution_count": 214,
   "id": "2ecd1f25",
   "metadata": {},
   "outputs": [
    {
     "data": {
      "text/plain": [
       "Index(['Step', 'transactionType', 'Amount', 'startingClient',\n",
       "       'oldBalStartingClient', 'newBalStartingClient', 'destinationClient',\n",
       "       'oldBalDestClient', 'newBalDestClient', 'isfraud'],\n",
       "      dtype='object')"
      ]
     },
     "execution_count": 214,
     "metadata": {},
     "output_type": "execute_result"
    }
   ],
   "source": [
    "data.columns"
   ]
  },
  {
   "cell_type": "code",
   "execution_count": 215,
   "id": "468cf5a7",
   "metadata": {},
   "outputs": [],
   "source": [
    "#FEATURE ENGINEERING"
   ]
  },
  {
   "cell_type": "code",
   "execution_count": 216,
   "id": "455db6d2",
   "metadata": {},
   "outputs": [],
   "source": [
    "# Calculate the difference between initial and final balances for customer and recipient\n",
    "data['Customer_balance_change'] = data['newBalStartingClient'] - data['oldBalStartingClient']\n",
    "data['Recipient_balance_change'] = data['newBalDestClient'] - data['oldBalDestClient']\n",
    "\n",
    "# Calculate the difference between the transaction amount and customer balance change\n",
    "data['Amount_vs_customer_balance_change'] = data['Amount'] - data['Customer_balance_change']\n",
    "\n",
    "# Calculate the difference between the transaction amount and recipient balance change\n",
    "data['Amount_vs_recipient_balance_change'] = data['Amount'] - data['Recipient_balance_change']\n",
    "\n",
    "# Calculate the ratio of the transaction amount to the customer's initial balance\n",
    "#data['Amount_vs_initial_balance'] = data['Amount'] / data['OldBalanceOrig']\n",
    "\n",
    "# Calculate the ratio of the transaction amount to the recipient's initial balance\n",
    "#data['Amount_vs_recipient_initial_balance'] = data['Amount'] / data['OldBalanceDest']\n",
    "\n",
    "# Calculate the ratio of the transaction amount to the customer's final balance\n",
    "data['Amount_vs_final_balance'] = data['Amount'] / data['newBalStartingClient']\n",
    "\n",
    "# Calculate the ratio of the transaction amount to the recipient's final balance\n",
    "data['Amount_vs_recipient_final_balance'] = data['Amount'] / data['newBalDestClient']\n",
    "\n",
    "# Calculate the time difference between consecutive steps\n",
    "data['Time_diff'] = data.groupby('startingClient')['Step'].diff()\n",
    "\n",
    "# Perform any other relevant feature engineering operations based on your domain knowledge\n",
    "\n",
    "# Print the updated DataFrame with the additional features\n",
    "#print(data.head())"
   ]
  },
  {
   "cell_type": "code",
   "execution_count": 217,
   "id": "2cec48ef",
   "metadata": {},
   "outputs": [
    {
     "data": {
      "text/plain": [
       "Index(['Step', 'transactionType', 'Amount', 'startingClient',\n",
       "       'oldBalStartingClient', 'newBalStartingClient', 'destinationClient',\n",
       "       'oldBalDestClient', 'newBalDestClient', 'isfraud',\n",
       "       'Customer_balance_change', 'Recipient_balance_change',\n",
       "       'Amount_vs_customer_balance_change',\n",
       "       'Amount_vs_recipient_balance_change', 'Amount_vs_final_balance',\n",
       "       'Amount_vs_recipient_final_balance', 'Time_diff'],\n",
       "      dtype='object')"
      ]
     },
     "execution_count": 217,
     "metadata": {},
     "output_type": "execute_result"
    }
   ],
   "source": [
    "data.columns"
   ]
  },
  {
   "cell_type": "code",
   "execution_count": 218,
   "id": "a2154c06",
   "metadata": {},
   "outputs": [
    {
     "name": "stdout",
     "output_type": "stream",
     "text": [
      "   Step transactionType    Amount    startingClient  oldBalStartingClient   \n",
      "0     0         DEPOSIT  19029.53  4633744264492440                 81.87  \\\n",
      "1     0         DEPOSIT  18695.67  4510557354806580                 10.16   \n",
      "2     0         DEPOSIT  19614.70  4486709191799490              11472.76   \n",
      "3     0         DEPOSIT  18428.60  4437666409261360              18919.85   \n",
      "4     0         DEPOSIT  18437.70  4716113455799250                 14.37   \n",
      "\n",
      "   newBalStartingClient destinationClient  oldBalDestClient  newBalDestClient   \n",
      "0              19111.39        92-0000018               0.0               0.0  \\\n",
      "1              18705.83        90-0003579               0.0               0.0   \n",
      "2              31087.45        99-0004489               0.0               0.0   \n",
      "3              37348.45        11-0004423               0.0               0.0   \n",
      "4              18452.06        56-0008928               0.0               0.0   \n",
      "\n",
      "   isfraud  Customer_balance_change  Recipient_balance_change   \n",
      "0        1                 19029.52                       0.0  \\\n",
      "1        1                 18695.67                       0.0   \n",
      "2        1                 19614.69                       0.0   \n",
      "3        1                 18428.60                       0.0   \n",
      "4        1                 18437.69                       0.0   \n",
      "\n",
      "   Amount_vs_customer_balance_change  Amount_vs_recipient_balance_change   \n",
      "0                       1.000000e-02                            19029.53  \\\n",
      "1                      -3.637979e-12                            18695.67   \n",
      "2                       1.000000e-02                            19614.70   \n",
      "3                       0.000000e+00                            18428.60   \n",
      "4                       1.000000e-02                            18437.70   \n",
      "\n",
      "   Amount_vs_final_balance  Amount_vs_recipient_final_balance  Time_diff  \n",
      "0                 0.995717                                inf        NaN  \n",
      "1                 0.999457                                inf        NaN  \n",
      "2                 0.630952                                inf        NaN  \n",
      "3                 0.493423                                inf        NaN  \n",
      "4                 0.999222                                inf        NaN  \n"
     ]
    }
   ],
   "source": [
    "print(data.head())"
   ]
  },
  {
   "cell_type": "code",
   "execution_count": 219,
   "id": "faad908d",
   "metadata": {},
   "outputs": [
    {
     "data": {
      "text/html": [
       "<div>\n",
       "<style scoped>\n",
       "    .dataframe tbody tr th:only-of-type {\n",
       "        vertical-align: middle;\n",
       "    }\n",
       "\n",
       "    .dataframe tbody tr th {\n",
       "        vertical-align: top;\n",
       "    }\n",
       "\n",
       "    .dataframe thead th {\n",
       "        text-align: right;\n",
       "    }\n",
       "</style>\n",
       "<table border=\"1\" class=\"dataframe\">\n",
       "  <thead>\n",
       "    <tr style=\"text-align: right;\">\n",
       "      <th></th>\n",
       "      <th>Step</th>\n",
       "      <th>transactionType</th>\n",
       "      <th>Amount</th>\n",
       "      <th>startingClient</th>\n",
       "      <th>oldBalStartingClient</th>\n",
       "      <th>newBalStartingClient</th>\n",
       "      <th>destinationClient</th>\n",
       "      <th>oldBalDestClient</th>\n",
       "      <th>newBalDestClient</th>\n",
       "      <th>isfraud</th>\n",
       "      <th>Customer_balance_change</th>\n",
       "      <th>Recipient_balance_change</th>\n",
       "      <th>Amount_vs_customer_balance_change</th>\n",
       "      <th>Amount_vs_recipient_balance_change</th>\n",
       "      <th>Amount_vs_final_balance</th>\n",
       "      <th>Amount_vs_recipient_final_balance</th>\n",
       "      <th>Time_diff</th>\n",
       "    </tr>\n",
       "  </thead>\n",
       "  <tbody>\n",
       "    <tr>\n",
       "      <th>0</th>\n",
       "      <td>0</td>\n",
       "      <td>DEPOSIT</td>\n",
       "      <td>19029.53</td>\n",
       "      <td>4633744264492440</td>\n",
       "      <td>81.87</td>\n",
       "      <td>19111.39</td>\n",
       "      <td>92-0000018</td>\n",
       "      <td>0.0</td>\n",
       "      <td>0.0</td>\n",
       "      <td>1</td>\n",
       "      <td>19029.52</td>\n",
       "      <td>0.0</td>\n",
       "      <td>1.000000e-02</td>\n",
       "      <td>19029.53</td>\n",
       "      <td>0.995717</td>\n",
       "      <td>inf</td>\n",
       "      <td>NaN</td>\n",
       "    </tr>\n",
       "    <tr>\n",
       "      <th>1</th>\n",
       "      <td>0</td>\n",
       "      <td>DEPOSIT</td>\n",
       "      <td>18695.67</td>\n",
       "      <td>4510557354806580</td>\n",
       "      <td>10.16</td>\n",
       "      <td>18705.83</td>\n",
       "      <td>90-0003579</td>\n",
       "      <td>0.0</td>\n",
       "      <td>0.0</td>\n",
       "      <td>1</td>\n",
       "      <td>18695.67</td>\n",
       "      <td>0.0</td>\n",
       "      <td>-3.637979e-12</td>\n",
       "      <td>18695.67</td>\n",
       "      <td>0.999457</td>\n",
       "      <td>inf</td>\n",
       "      <td>NaN</td>\n",
       "    </tr>\n",
       "    <tr>\n",
       "      <th>2</th>\n",
       "      <td>0</td>\n",
       "      <td>DEPOSIT</td>\n",
       "      <td>19614.70</td>\n",
       "      <td>4486709191799490</td>\n",
       "      <td>11472.76</td>\n",
       "      <td>31087.45</td>\n",
       "      <td>99-0004489</td>\n",
       "      <td>0.0</td>\n",
       "      <td>0.0</td>\n",
       "      <td>1</td>\n",
       "      <td>19614.69</td>\n",
       "      <td>0.0</td>\n",
       "      <td>1.000000e-02</td>\n",
       "      <td>19614.70</td>\n",
       "      <td>0.630952</td>\n",
       "      <td>inf</td>\n",
       "      <td>NaN</td>\n",
       "    </tr>\n",
       "    <tr>\n",
       "      <th>3</th>\n",
       "      <td>0</td>\n",
       "      <td>DEPOSIT</td>\n",
       "      <td>18428.60</td>\n",
       "      <td>4437666409261360</td>\n",
       "      <td>18919.85</td>\n",
       "      <td>37348.45</td>\n",
       "      <td>11-0004423</td>\n",
       "      <td>0.0</td>\n",
       "      <td>0.0</td>\n",
       "      <td>1</td>\n",
       "      <td>18428.60</td>\n",
       "      <td>0.0</td>\n",
       "      <td>0.000000e+00</td>\n",
       "      <td>18428.60</td>\n",
       "      <td>0.493423</td>\n",
       "      <td>inf</td>\n",
       "      <td>NaN</td>\n",
       "    </tr>\n",
       "    <tr>\n",
       "      <th>4</th>\n",
       "      <td>0</td>\n",
       "      <td>DEPOSIT</td>\n",
       "      <td>18437.70</td>\n",
       "      <td>4716113455799250</td>\n",
       "      <td>14.37</td>\n",
       "      <td>18452.06</td>\n",
       "      <td>56-0008928</td>\n",
       "      <td>0.0</td>\n",
       "      <td>0.0</td>\n",
       "      <td>1</td>\n",
       "      <td>18437.69</td>\n",
       "      <td>0.0</td>\n",
       "      <td>1.000000e-02</td>\n",
       "      <td>18437.70</td>\n",
       "      <td>0.999222</td>\n",
       "      <td>inf</td>\n",
       "      <td>NaN</td>\n",
       "    </tr>\n",
       "  </tbody>\n",
       "</table>\n",
       "</div>"
      ],
      "text/plain": [
       "   Step transactionType    Amount    startingClient  oldBalStartingClient   \n",
       "0     0         DEPOSIT  19029.53  4633744264492440                 81.87  \\\n",
       "1     0         DEPOSIT  18695.67  4510557354806580                 10.16   \n",
       "2     0         DEPOSIT  19614.70  4486709191799490              11472.76   \n",
       "3     0         DEPOSIT  18428.60  4437666409261360              18919.85   \n",
       "4     0         DEPOSIT  18437.70  4716113455799250                 14.37   \n",
       "\n",
       "   newBalStartingClient destinationClient  oldBalDestClient  newBalDestClient   \n",
       "0              19111.39        92-0000018               0.0               0.0  \\\n",
       "1              18705.83        90-0003579               0.0               0.0   \n",
       "2              31087.45        99-0004489               0.0               0.0   \n",
       "3              37348.45        11-0004423               0.0               0.0   \n",
       "4              18452.06        56-0008928               0.0               0.0   \n",
       "\n",
       "   isfraud  Customer_balance_change  Recipient_balance_change   \n",
       "0        1                 19029.52                       0.0  \\\n",
       "1        1                 18695.67                       0.0   \n",
       "2        1                 19614.69                       0.0   \n",
       "3        1                 18428.60                       0.0   \n",
       "4        1                 18437.69                       0.0   \n",
       "\n",
       "   Amount_vs_customer_balance_change  Amount_vs_recipient_balance_change   \n",
       "0                       1.000000e-02                            19029.53  \\\n",
       "1                      -3.637979e-12                            18695.67   \n",
       "2                       1.000000e-02                            19614.70   \n",
       "3                       0.000000e+00                            18428.60   \n",
       "4                       1.000000e-02                            18437.70   \n",
       "\n",
       "   Amount_vs_final_balance  Amount_vs_recipient_final_balance  Time_diff  \n",
       "0                 0.995717                                inf        NaN  \n",
       "1                 0.999457                                inf        NaN  \n",
       "2                 0.630952                                inf        NaN  \n",
       "3                 0.493423                                inf        NaN  \n",
       "4                 0.999222                                inf        NaN  "
      ]
     },
     "execution_count": 219,
     "metadata": {},
     "output_type": "execute_result"
    }
   ],
   "source": [
    "data.head(5)"
   ]
  },
  {
   "cell_type": "code",
   "execution_count": 220,
   "id": "efe7498e",
   "metadata": {},
   "outputs": [
    {
     "data": {
      "text/html": [
       "<div>\n",
       "<style scoped>\n",
       "    .dataframe tbody tr th:only-of-type {\n",
       "        vertical-align: middle;\n",
       "    }\n",
       "\n",
       "    .dataframe tbody tr th {\n",
       "        vertical-align: top;\n",
       "    }\n",
       "\n",
       "    .dataframe thead th {\n",
       "        text-align: right;\n",
       "    }\n",
       "</style>\n",
       "<table border=\"1\" class=\"dataframe\">\n",
       "  <thead>\n",
       "    <tr style=\"text-align: right;\">\n",
       "      <th></th>\n",
       "      <th>Step</th>\n",
       "      <th>transactionType</th>\n",
       "      <th>Amount</th>\n",
       "      <th>startingClient</th>\n",
       "      <th>oldBalStartingClient</th>\n",
       "      <th>newBalStartingClient</th>\n",
       "      <th>destinationClient</th>\n",
       "      <th>oldBalDestClient</th>\n",
       "      <th>newBalDestClient</th>\n",
       "      <th>isfraud</th>\n",
       "      <th>Customer_balance_change</th>\n",
       "      <th>Recipient_balance_change</th>\n",
       "      <th>Amount_vs_customer_balance_change</th>\n",
       "      <th>Amount_vs_recipient_balance_change</th>\n",
       "      <th>Amount_vs_final_balance</th>\n",
       "      <th>Amount_vs_recipient_final_balance</th>\n",
       "      <th>Time_diff</th>\n",
       "      <th>Action_encoded</th>\n",
       "    </tr>\n",
       "  </thead>\n",
       "  <tbody>\n",
       "    <tr>\n",
       "      <th>0</th>\n",
       "      <td>0</td>\n",
       "      <td>DEPOSIT</td>\n",
       "      <td>19029.53</td>\n",
       "      <td>4633744264492440</td>\n",
       "      <td>81.87</td>\n",
       "      <td>19111.39</td>\n",
       "      <td>92-0000018</td>\n",
       "      <td>0.0</td>\n",
       "      <td>0.0</td>\n",
       "      <td>1</td>\n",
       "      <td>19029.52</td>\n",
       "      <td>0.0</td>\n",
       "      <td>1.000000e-02</td>\n",
       "      <td>19029.53</td>\n",
       "      <td>0.995717</td>\n",
       "      <td>inf</td>\n",
       "      <td>NaN</td>\n",
       "      <td>1</td>\n",
       "    </tr>\n",
       "    <tr>\n",
       "      <th>1</th>\n",
       "      <td>0</td>\n",
       "      <td>DEPOSIT</td>\n",
       "      <td>18695.67</td>\n",
       "      <td>4510557354806580</td>\n",
       "      <td>10.16</td>\n",
       "      <td>18705.83</td>\n",
       "      <td>90-0003579</td>\n",
       "      <td>0.0</td>\n",
       "      <td>0.0</td>\n",
       "      <td>1</td>\n",
       "      <td>18695.67</td>\n",
       "      <td>0.0</td>\n",
       "      <td>-3.637979e-12</td>\n",
       "      <td>18695.67</td>\n",
       "      <td>0.999457</td>\n",
       "      <td>inf</td>\n",
       "      <td>NaN</td>\n",
       "      <td>1</td>\n",
       "    </tr>\n",
       "    <tr>\n",
       "      <th>2</th>\n",
       "      <td>0</td>\n",
       "      <td>DEPOSIT</td>\n",
       "      <td>19614.70</td>\n",
       "      <td>4486709191799490</td>\n",
       "      <td>11472.76</td>\n",
       "      <td>31087.45</td>\n",
       "      <td>99-0004489</td>\n",
       "      <td>0.0</td>\n",
       "      <td>0.0</td>\n",
       "      <td>1</td>\n",
       "      <td>19614.69</td>\n",
       "      <td>0.0</td>\n",
       "      <td>1.000000e-02</td>\n",
       "      <td>19614.70</td>\n",
       "      <td>0.630952</td>\n",
       "      <td>inf</td>\n",
       "      <td>NaN</td>\n",
       "      <td>1</td>\n",
       "    </tr>\n",
       "    <tr>\n",
       "      <th>3</th>\n",
       "      <td>0</td>\n",
       "      <td>DEPOSIT</td>\n",
       "      <td>18428.60</td>\n",
       "      <td>4437666409261360</td>\n",
       "      <td>18919.85</td>\n",
       "      <td>37348.45</td>\n",
       "      <td>11-0004423</td>\n",
       "      <td>0.0</td>\n",
       "      <td>0.0</td>\n",
       "      <td>1</td>\n",
       "      <td>18428.60</td>\n",
       "      <td>0.0</td>\n",
       "      <td>0.000000e+00</td>\n",
       "      <td>18428.60</td>\n",
       "      <td>0.493423</td>\n",
       "      <td>inf</td>\n",
       "      <td>NaN</td>\n",
       "      <td>1</td>\n",
       "    </tr>\n",
       "    <tr>\n",
       "      <th>4</th>\n",
       "      <td>0</td>\n",
       "      <td>DEPOSIT</td>\n",
       "      <td>18437.70</td>\n",
       "      <td>4716113455799250</td>\n",
       "      <td>14.37</td>\n",
       "      <td>18452.06</td>\n",
       "      <td>56-0008928</td>\n",
       "      <td>0.0</td>\n",
       "      <td>0.0</td>\n",
       "      <td>1</td>\n",
       "      <td>18437.69</td>\n",
       "      <td>0.0</td>\n",
       "      <td>1.000000e-02</td>\n",
       "      <td>18437.70</td>\n",
       "      <td>0.999222</td>\n",
       "      <td>inf</td>\n",
       "      <td>NaN</td>\n",
       "      <td>1</td>\n",
       "    </tr>\n",
       "  </tbody>\n",
       "</table>\n",
       "</div>"
      ],
      "text/plain": [
       "   Step transactionType    Amount    startingClient  oldBalStartingClient   \n",
       "0     0         DEPOSIT  19029.53  4633744264492440                 81.87  \\\n",
       "1     0         DEPOSIT  18695.67  4510557354806580                 10.16   \n",
       "2     0         DEPOSIT  19614.70  4486709191799490              11472.76   \n",
       "3     0         DEPOSIT  18428.60  4437666409261360              18919.85   \n",
       "4     0         DEPOSIT  18437.70  4716113455799250                 14.37   \n",
       "\n",
       "   newBalStartingClient destinationClient  oldBalDestClient  newBalDestClient   \n",
       "0              19111.39        92-0000018               0.0               0.0  \\\n",
       "1              18705.83        90-0003579               0.0               0.0   \n",
       "2              31087.45        99-0004489               0.0               0.0   \n",
       "3              37348.45        11-0004423               0.0               0.0   \n",
       "4              18452.06        56-0008928               0.0               0.0   \n",
       "\n",
       "   isfraud  Customer_balance_change  Recipient_balance_change   \n",
       "0        1                 19029.52                       0.0  \\\n",
       "1        1                 18695.67                       0.0   \n",
       "2        1                 19614.69                       0.0   \n",
       "3        1                 18428.60                       0.0   \n",
       "4        1                 18437.69                       0.0   \n",
       "\n",
       "   Amount_vs_customer_balance_change  Amount_vs_recipient_balance_change   \n",
       "0                       1.000000e-02                            19029.53  \\\n",
       "1                      -3.637979e-12                            18695.67   \n",
       "2                       1.000000e-02                            19614.70   \n",
       "3                       0.000000e+00                            18428.60   \n",
       "4                       1.000000e-02                            18437.70   \n",
       "\n",
       "   Amount_vs_final_balance  Amount_vs_recipient_final_balance  Time_diff   \n",
       "0                 0.995717                                inf        NaN  \\\n",
       "1                 0.999457                                inf        NaN   \n",
       "2                 0.630952                                inf        NaN   \n",
       "3                 0.493423                                inf        NaN   \n",
       "4                 0.999222                                inf        NaN   \n",
       "\n",
       "   Action_encoded  \n",
       "0               1  \n",
       "1               1  \n",
       "2               1  \n",
       "3               1  \n",
       "4               1  "
      ]
     },
     "execution_count": 220,
     "metadata": {},
     "output_type": "execute_result"
    }
   ],
   "source": [
    "# Encoding the transactiontype column to nemerical values\n",
    "\n",
    "from sklearn.preprocessing import LabelEncoder\n",
    "\n",
    "# Create a LabelEncoder object\n",
    "le = LabelEncoder()\n",
    "\n",
    "# Fit the encoder to the categorical column\n",
    "le.fit(data['transactionType'])\n",
    "\n",
    "\n",
    "# Transform the categorical column to numerical values\n",
    "data['Action_encoded'] = le.transform(data['transactionType'])\n",
    "\n",
    "\n",
    "data.head(5)"
   ]
  },
  {
   "cell_type": "code",
   "execution_count": 221,
   "id": "0238f5af",
   "metadata": {},
   "outputs": [
    {
     "data": {
      "text/html": [
       "<div>\n",
       "<style scoped>\n",
       "    .dataframe tbody tr th:only-of-type {\n",
       "        vertical-align: middle;\n",
       "    }\n",
       "\n",
       "    .dataframe tbody tr th {\n",
       "        vertical-align: top;\n",
       "    }\n",
       "\n",
       "    .dataframe thead th {\n",
       "        text-align: right;\n",
       "    }\n",
       "</style>\n",
       "<table border=\"1\" class=\"dataframe\">\n",
       "  <thead>\n",
       "    <tr style=\"text-align: right;\">\n",
       "      <th></th>\n",
       "      <th>Step</th>\n",
       "      <th>transactionType</th>\n",
       "      <th>Amount</th>\n",
       "      <th>startingClient</th>\n",
       "      <th>oldBalStartingClient</th>\n",
       "      <th>newBalStartingClient</th>\n",
       "      <th>destinationClient</th>\n",
       "      <th>oldBalDestClient</th>\n",
       "      <th>newBalDestClient</th>\n",
       "      <th>isfraud</th>\n",
       "      <th>Customer_balance_change</th>\n",
       "      <th>Recipient_balance_change</th>\n",
       "      <th>Amount_vs_customer_balance_change</th>\n",
       "      <th>Amount_vs_recipient_balance_change</th>\n",
       "      <th>Amount_vs_final_balance</th>\n",
       "      <th>Amount_vs_recipient_final_balance</th>\n",
       "      <th>Time_diff</th>\n",
       "      <th>Action_encoded</th>\n",
       "      <th>NameOrig_encoded</th>\n",
       "    </tr>\n",
       "  </thead>\n",
       "  <tbody>\n",
       "    <tr>\n",
       "      <th>0</th>\n",
       "      <td>0</td>\n",
       "      <td>DEPOSIT</td>\n",
       "      <td>19029.53</td>\n",
       "      <td>4633744264492440</td>\n",
       "      <td>81.87</td>\n",
       "      <td>19111.39</td>\n",
       "      <td>92-0000018</td>\n",
       "      <td>0.0</td>\n",
       "      <td>0.0</td>\n",
       "      <td>1</td>\n",
       "      <td>19029.52</td>\n",
       "      <td>0.0</td>\n",
       "      <td>1.000000e-02</td>\n",
       "      <td>19029.53</td>\n",
       "      <td>0.995717</td>\n",
       "      <td>inf</td>\n",
       "      <td>NaN</td>\n",
       "      <td>1</td>\n",
       "      <td>1518</td>\n",
       "    </tr>\n",
       "    <tr>\n",
       "      <th>1</th>\n",
       "      <td>0</td>\n",
       "      <td>DEPOSIT</td>\n",
       "      <td>18695.67</td>\n",
       "      <td>4510557354806580</td>\n",
       "      <td>10.16</td>\n",
       "      <td>18705.83</td>\n",
       "      <td>90-0003579</td>\n",
       "      <td>0.0</td>\n",
       "      <td>0.0</td>\n",
       "      <td>1</td>\n",
       "      <td>18695.67</td>\n",
       "      <td>0.0</td>\n",
       "      <td>-3.637979e-12</td>\n",
       "      <td>18695.67</td>\n",
       "      <td>0.999457</td>\n",
       "      <td>inf</td>\n",
       "      <td>NaN</td>\n",
       "      <td>1</td>\n",
       "      <td>1246</td>\n",
       "    </tr>\n",
       "    <tr>\n",
       "      <th>2</th>\n",
       "      <td>0</td>\n",
       "      <td>DEPOSIT</td>\n",
       "      <td>19614.70</td>\n",
       "      <td>4486709191799490</td>\n",
       "      <td>11472.76</td>\n",
       "      <td>31087.45</td>\n",
       "      <td>99-0004489</td>\n",
       "      <td>0.0</td>\n",
       "      <td>0.0</td>\n",
       "      <td>1</td>\n",
       "      <td>19614.69</td>\n",
       "      <td>0.0</td>\n",
       "      <td>1.000000e-02</td>\n",
       "      <td>19614.70</td>\n",
       "      <td>0.630952</td>\n",
       "      <td>inf</td>\n",
       "      <td>NaN</td>\n",
       "      <td>1</td>\n",
       "      <td>1185</td>\n",
       "    </tr>\n",
       "    <tr>\n",
       "      <th>3</th>\n",
       "      <td>0</td>\n",
       "      <td>DEPOSIT</td>\n",
       "      <td>18428.60</td>\n",
       "      <td>4437666409261360</td>\n",
       "      <td>18919.85</td>\n",
       "      <td>37348.45</td>\n",
       "      <td>11-0004423</td>\n",
       "      <td>0.0</td>\n",
       "      <td>0.0</td>\n",
       "      <td>1</td>\n",
       "      <td>18428.60</td>\n",
       "      <td>0.0</td>\n",
       "      <td>0.000000e+00</td>\n",
       "      <td>18428.60</td>\n",
       "      <td>0.493423</td>\n",
       "      <td>inf</td>\n",
       "      <td>NaN</td>\n",
       "      <td>1</td>\n",
       "      <td>1066</td>\n",
       "    </tr>\n",
       "    <tr>\n",
       "      <th>4</th>\n",
       "      <td>0</td>\n",
       "      <td>DEPOSIT</td>\n",
       "      <td>18437.70</td>\n",
       "      <td>4716113455799250</td>\n",
       "      <td>14.37</td>\n",
       "      <td>18452.06</td>\n",
       "      <td>56-0008928</td>\n",
       "      <td>0.0</td>\n",
       "      <td>0.0</td>\n",
       "      <td>1</td>\n",
       "      <td>18437.69</td>\n",
       "      <td>0.0</td>\n",
       "      <td>1.000000e-02</td>\n",
       "      <td>18437.70</td>\n",
       "      <td>0.999222</td>\n",
       "      <td>inf</td>\n",
       "      <td>NaN</td>\n",
       "      <td>1</td>\n",
       "      <td>1729</td>\n",
       "    </tr>\n",
       "  </tbody>\n",
       "</table>\n",
       "</div>"
      ],
      "text/plain": [
       "   Step transactionType    Amount    startingClient  oldBalStartingClient   \n",
       "0     0         DEPOSIT  19029.53  4633744264492440                 81.87  \\\n",
       "1     0         DEPOSIT  18695.67  4510557354806580                 10.16   \n",
       "2     0         DEPOSIT  19614.70  4486709191799490              11472.76   \n",
       "3     0         DEPOSIT  18428.60  4437666409261360              18919.85   \n",
       "4     0         DEPOSIT  18437.70  4716113455799250                 14.37   \n",
       "\n",
       "   newBalStartingClient destinationClient  oldBalDestClient  newBalDestClient   \n",
       "0              19111.39        92-0000018               0.0               0.0  \\\n",
       "1              18705.83        90-0003579               0.0               0.0   \n",
       "2              31087.45        99-0004489               0.0               0.0   \n",
       "3              37348.45        11-0004423               0.0               0.0   \n",
       "4              18452.06        56-0008928               0.0               0.0   \n",
       "\n",
       "   isfraud  Customer_balance_change  Recipient_balance_change   \n",
       "0        1                 19029.52                       0.0  \\\n",
       "1        1                 18695.67                       0.0   \n",
       "2        1                 19614.69                       0.0   \n",
       "3        1                 18428.60                       0.0   \n",
       "4        1                 18437.69                       0.0   \n",
       "\n",
       "   Amount_vs_customer_balance_change  Amount_vs_recipient_balance_change   \n",
       "0                       1.000000e-02                            19029.53  \\\n",
       "1                      -3.637979e-12                            18695.67   \n",
       "2                       1.000000e-02                            19614.70   \n",
       "3                       0.000000e+00                            18428.60   \n",
       "4                       1.000000e-02                            18437.70   \n",
       "\n",
       "   Amount_vs_final_balance  Amount_vs_recipient_final_balance  Time_diff   \n",
       "0                 0.995717                                inf        NaN  \\\n",
       "1                 0.999457                                inf        NaN   \n",
       "2                 0.630952                                inf        NaN   \n",
       "3                 0.493423                                inf        NaN   \n",
       "4                 0.999222                                inf        NaN   \n",
       "\n",
       "   Action_encoded  NameOrig_encoded  \n",
       "0               1              1518  \n",
       "1               1              1246  \n",
       "2               1              1185  \n",
       "3               1              1066  \n",
       "4               1              1729  "
      ]
     },
     "execution_count": 221,
     "metadata": {},
     "output_type": "execute_result"
    }
   ],
   "source": [
    "# Fit the encoder to the categorical column\n",
    "\n",
    "le.fit(data['startingClient'])\n",
    "\n",
    "\n",
    "# Transform the categorical column to numerical values\n",
    "\n",
    "data['NameOrig_encoded'] = le.transform(data['startingClient'])\n",
    "\n",
    "\n",
    "data.head(5)"
   ]
  },
  {
   "cell_type": "code",
   "execution_count": 222,
   "id": "d0b9c833",
   "metadata": {},
   "outputs": [
    {
     "data": {
      "text/html": [
       "<div>\n",
       "<style scoped>\n",
       "    .dataframe tbody tr th:only-of-type {\n",
       "        vertical-align: middle;\n",
       "    }\n",
       "\n",
       "    .dataframe tbody tr th {\n",
       "        vertical-align: top;\n",
       "    }\n",
       "\n",
       "    .dataframe thead th {\n",
       "        text-align: right;\n",
       "    }\n",
       "</style>\n",
       "<table border=\"1\" class=\"dataframe\">\n",
       "  <thead>\n",
       "    <tr style=\"text-align: right;\">\n",
       "      <th></th>\n",
       "      <th>Step</th>\n",
       "      <th>transactionType</th>\n",
       "      <th>Amount</th>\n",
       "      <th>startingClient</th>\n",
       "      <th>oldBalStartingClient</th>\n",
       "      <th>newBalStartingClient</th>\n",
       "      <th>destinationClient</th>\n",
       "      <th>oldBalDestClient</th>\n",
       "      <th>newBalDestClient</th>\n",
       "      <th>isfraud</th>\n",
       "      <th>Customer_balance_change</th>\n",
       "      <th>Recipient_balance_change</th>\n",
       "      <th>Amount_vs_customer_balance_change</th>\n",
       "      <th>Amount_vs_recipient_balance_change</th>\n",
       "      <th>Amount_vs_final_balance</th>\n",
       "      <th>Amount_vs_recipient_final_balance</th>\n",
       "      <th>Time_diff</th>\n",
       "      <th>Action_encoded</th>\n",
       "      <th>NameOrig_encoded</th>\n",
       "      <th>NameDest_encoded</th>\n",
       "    </tr>\n",
       "  </thead>\n",
       "  <tbody>\n",
       "    <tr>\n",
       "      <th>0</th>\n",
       "      <td>0</td>\n",
       "      <td>DEPOSIT</td>\n",
       "      <td>19029.53</td>\n",
       "      <td>4633744264492440</td>\n",
       "      <td>81.87</td>\n",
       "      <td>19111.39</td>\n",
       "      <td>92-0000018</td>\n",
       "      <td>0.0</td>\n",
       "      <td>0.0</td>\n",
       "      <td>1</td>\n",
       "      <td>19029.52</td>\n",
       "      <td>0.0</td>\n",
       "      <td>1.000000e-02</td>\n",
       "      <td>19029.53</td>\n",
       "      <td>0.995717</td>\n",
       "      <td>inf</td>\n",
       "      <td>NaN</td>\n",
       "      <td>1</td>\n",
       "      <td>1518</td>\n",
       "      <td>2930</td>\n",
       "    </tr>\n",
       "    <tr>\n",
       "      <th>1</th>\n",
       "      <td>0</td>\n",
       "      <td>DEPOSIT</td>\n",
       "      <td>18695.67</td>\n",
       "      <td>4510557354806580</td>\n",
       "      <td>10.16</td>\n",
       "      <td>18705.83</td>\n",
       "      <td>90-0003579</td>\n",
       "      <td>0.0</td>\n",
       "      <td>0.0</td>\n",
       "      <td>1</td>\n",
       "      <td>18695.67</td>\n",
       "      <td>0.0</td>\n",
       "      <td>-3.637979e-12</td>\n",
       "      <td>18695.67</td>\n",
       "      <td>0.999457</td>\n",
       "      <td>inf</td>\n",
       "      <td>NaN</td>\n",
       "      <td>1</td>\n",
       "      <td>1246</td>\n",
       "      <td>2924</td>\n",
       "    </tr>\n",
       "    <tr>\n",
       "      <th>2</th>\n",
       "      <td>0</td>\n",
       "      <td>DEPOSIT</td>\n",
       "      <td>19614.70</td>\n",
       "      <td>4486709191799490</td>\n",
       "      <td>11472.76</td>\n",
       "      <td>31087.45</td>\n",
       "      <td>99-0004489</td>\n",
       "      <td>0.0</td>\n",
       "      <td>0.0</td>\n",
       "      <td>1</td>\n",
       "      <td>19614.69</td>\n",
       "      <td>0.0</td>\n",
       "      <td>1.000000e-02</td>\n",
       "      <td>19614.70</td>\n",
       "      <td>0.630952</td>\n",
       "      <td>inf</td>\n",
       "      <td>NaN</td>\n",
       "      <td>1</td>\n",
       "      <td>1185</td>\n",
       "      <td>2947</td>\n",
       "    </tr>\n",
       "    <tr>\n",
       "      <th>3</th>\n",
       "      <td>0</td>\n",
       "      <td>DEPOSIT</td>\n",
       "      <td>18428.60</td>\n",
       "      <td>4437666409261360</td>\n",
       "      <td>18919.85</td>\n",
       "      <td>37348.45</td>\n",
       "      <td>11-0004423</td>\n",
       "      <td>0.0</td>\n",
       "      <td>0.0</td>\n",
       "      <td>1</td>\n",
       "      <td>18428.60</td>\n",
       "      <td>0.0</td>\n",
       "      <td>0.000000e+00</td>\n",
       "      <td>18428.60</td>\n",
       "      <td>0.493423</td>\n",
       "      <td>inf</td>\n",
       "      <td>NaN</td>\n",
       "      <td>1</td>\n",
       "      <td>1066</td>\n",
       "      <td>41</td>\n",
       "    </tr>\n",
       "    <tr>\n",
       "      <th>4</th>\n",
       "      <td>0</td>\n",
       "      <td>DEPOSIT</td>\n",
       "      <td>18437.70</td>\n",
       "      <td>4716113455799250</td>\n",
       "      <td>14.37</td>\n",
       "      <td>18452.06</td>\n",
       "      <td>56-0008928</td>\n",
       "      <td>0.0</td>\n",
       "      <td>0.0</td>\n",
       "      <td>1</td>\n",
       "      <td>18437.69</td>\n",
       "      <td>0.0</td>\n",
       "      <td>1.000000e-02</td>\n",
       "      <td>18437.70</td>\n",
       "      <td>0.999222</td>\n",
       "      <td>inf</td>\n",
       "      <td>NaN</td>\n",
       "      <td>1</td>\n",
       "      <td>1729</td>\n",
       "      <td>2798</td>\n",
       "    </tr>\n",
       "  </tbody>\n",
       "</table>\n",
       "</div>"
      ],
      "text/plain": [
       "   Step transactionType    Amount    startingClient  oldBalStartingClient   \n",
       "0     0         DEPOSIT  19029.53  4633744264492440                 81.87  \\\n",
       "1     0         DEPOSIT  18695.67  4510557354806580                 10.16   \n",
       "2     0         DEPOSIT  19614.70  4486709191799490              11472.76   \n",
       "3     0         DEPOSIT  18428.60  4437666409261360              18919.85   \n",
       "4     0         DEPOSIT  18437.70  4716113455799250                 14.37   \n",
       "\n",
       "   newBalStartingClient destinationClient  oldBalDestClient  newBalDestClient   \n",
       "0              19111.39        92-0000018               0.0               0.0  \\\n",
       "1              18705.83        90-0003579               0.0               0.0   \n",
       "2              31087.45        99-0004489               0.0               0.0   \n",
       "3              37348.45        11-0004423               0.0               0.0   \n",
       "4              18452.06        56-0008928               0.0               0.0   \n",
       "\n",
       "   isfraud  Customer_balance_change  Recipient_balance_change   \n",
       "0        1                 19029.52                       0.0  \\\n",
       "1        1                 18695.67                       0.0   \n",
       "2        1                 19614.69                       0.0   \n",
       "3        1                 18428.60                       0.0   \n",
       "4        1                 18437.69                       0.0   \n",
       "\n",
       "   Amount_vs_customer_balance_change  Amount_vs_recipient_balance_change   \n",
       "0                       1.000000e-02                            19029.53  \\\n",
       "1                      -3.637979e-12                            18695.67   \n",
       "2                       1.000000e-02                            19614.70   \n",
       "3                       0.000000e+00                            18428.60   \n",
       "4                       1.000000e-02                            18437.70   \n",
       "\n",
       "   Amount_vs_final_balance  Amount_vs_recipient_final_balance  Time_diff   \n",
       "0                 0.995717                                inf        NaN  \\\n",
       "1                 0.999457                                inf        NaN   \n",
       "2                 0.630952                                inf        NaN   \n",
       "3                 0.493423                                inf        NaN   \n",
       "4                 0.999222                                inf        NaN   \n",
       "\n",
       "   Action_encoded  NameOrig_encoded  NameDest_encoded  \n",
       "0               1              1518              2930  \n",
       "1               1              1246              2924  \n",
       "2               1              1185              2947  \n",
       "3               1              1066                41  \n",
       "4               1              1729              2798  "
      ]
     },
     "execution_count": 222,
     "metadata": {},
     "output_type": "execute_result"
    }
   ],
   "source": [
    "# Fit the encoder to the categorical column\n",
    "\n",
    "le.fit(data['destinationClient'])\n",
    "\n",
    "# Transform the categorical column to numerical values\n",
    "\n",
    "data['NameDest_encoded'] = le.transform(data['destinationClient'])\n",
    "\n",
    "data.head(5)"
   ]
  },
  {
   "cell_type": "code",
   "execution_count": 223,
   "id": "900f7343",
   "metadata": {},
   "outputs": [
    {
     "name": "stdout",
     "output_type": "stream",
     "text": [
      "[  nan    0.    1.    2.    3.    4.    5.    6.    7.    8.    9.   10.\n",
      "   11.   12.   14.   15.   16.   17.   19.   18.   20.   21.   13.   25.\n",
      "   31.   33.   22.   26.   23.   36.   27.   30.   24.   32.   37.   40.\n",
      "   29.   34.   35.   42.   43.   28.   45.   46.   44.   57.   48.   52.\n",
      "   51.   38.   50.   54.   55.   60.   53.   39.   59.   41.   61.   68.\n",
      "   75.   49.   81.   67.   93.   64.   72.   47.   74.   65.   66.   58.\n",
      "   84.   92.   62.   94.   80.   90.   56.   73.   77.   70.  100.   98.\n",
      "   89.   63.   76.  103.   83.   79.  119.   82.  120.   71.  133.  123.\n",
      "   91.   88.   86.  113.   87.  114.   96.   95.  128.  108.  127.  117.\n",
      "  115.   78.   97.  121.  104.  101.  126.  136.  106.  122.  132.  139.\n",
      "  105.   99.  102.  109.  111.  118.  147.  116.  144.   69.  143.  152.\n",
      "  130.  138.  131.  137.  165.  134.  170.  141.  166.  186.  177.  176.\n",
      "  206.  140.  196.  110.  242.  270.  145.  124.  125.  149.  146.  129.\n",
      "  189.  169.  316.  151.  178.   85.  160.  155.  167.  158.  157.  171.\n",
      "  164.  112.  194.  135.  142.  107.  198.  203.  183.  195.  172.  150.\n",
      "  174.  179.  221.  153.  180.  193.  159.  188.  202.  243.  175.  187.\n",
      "  191.  233.  201.  226.  217.  231.  211.  173.  213.  199.  200.  245.\n",
      "  253.  232.  264.  228.  248.  208.  255.  254.  262.  168.  274.  263.\n",
      "  341.  284.  356.  285.  247.  314.  296.  272.  163.  342.  215.  282.\n",
      "  281.  269.  239.  224.  302.  273.  329.  305.  306.  327.  345.  357.\n",
      "  339.  297.  292. -369. -373. -716. -718.   -1. -412. -707. -358. -699.\n",
      " -383. -717.   -5. -426. -406. -719.  -16. -404. -714. -710. -619. -465.\n",
      " -357. -715. -441. -695. -333.  -18. -430. -405. -656. -700. -433. -424.\n",
      " -421. -583. -542. -407. -334.   -6. -636.  -20. -477. -556. -662. -360.\n",
      " -356. -371. -428. -709. -308. -335. -387. -595.   -7. -366. -235. -694.\n",
      " -355. -642. -213. -394. -712. -697. -494. -439.  -11.  -14.  -10. -623.\n",
      " -708. -607. -692. -690. -417. -621. -381. -632. -711. -400. -524. -491.\n",
      " -713. -552. -429. -473. -506. -546. -666. -706. -637. -568. -385. -427.\n",
      " -551. -437. -526. -602. -418. -284. -609. -359. -345. -559. -676. -571.\n",
      " -678. -420. -649. -328. -627. -629.  -37. -686. -474. -704. -570. -367.\n",
      " -670. -454. -667. -397. -303. -587. -684. -557. -669. -600. -554. -638.\n",
      " -393. -343. -488. -673. -664. -618. -658. -660.   -4. -483. -582. -309.\n",
      " -329. -399. -604. -486. -545. -352. -655. -398. -415. -376. -596. -594.\n",
      " -503. -351.  -95. -423. -705. -326. -327. -375. -612. -522. -598. -349.\n",
      " -377. -702. -615. -691. -536. -651. -539. -460. -403. -408. -696. -628.\n",
      " -448. -620. -625. -523. -529. -487. -534. -391. -701. -671. -374. -378.\n",
      " -532. -693. -422. -703. -517. -530. -449. -347. -413. -688. -386. -685.\n",
      " -348. -525. -569. -458. -611. -533. -490. -484. -396. -395. -585. -543.\n",
      " -414. -679. -372. -577. -499. -689. -432. -514. -520. -416. -370. -687.\n",
      " -592. -440. -513. -586. -563. -435. -641. -681. -337. -402. -410. -597.\n",
      " -573. -447. -574. -567. -648. -444. -544. -322. -469. -647. -631. -553.\n",
      " -425. -496. -515. -566. -390. -549. -616. -519. -580. -639. -593. -392.\n",
      " -380. -654. -389. -518. -572. -589. -555. -342. -630. -315. -466. -698.\n",
      " -528. -339. -341. -562. -346. -613. -471. -538. -576. -633. -290. -293.\n",
      " -419. -617. -510. -653. -634. -340. -388. -588. -622. -502. -646. -268.\n",
      " -336. -401. -338. -677. -331. -657. -409. -504. -541. -644. -668. -608.\n",
      " -314. -468. -445. -453. -384. -464. -578. -313. -663. -446. -674. -288.\n",
      " -382. -599. -324. -497. -601. -531. -683. -548. -560. -463. -489. -457.\n",
      " -265. -287. -652. -301. -462. -507. -540. -286. -411. -521. -456. -482.\n",
      " -501. -481. -682. -640. -498. -436. -256. -624. -330. -579. -379. -665.\n",
      " -304. -476. -323. -274. -224. -675. -452. -537. -222. -299. -645. -353.\n",
      " -470. -310. -260. -311. -325. -591. -672. -297. -319. -316. -354. -282.\n",
      " -320. -478. -291. -298. -318. -312. -472. -480. -550. -485. -361. -581.\n",
      " -500. -280. -307. -564. -281. -183. -270. -266. -277. -661. -279. -306.\n",
      " -321. -305. -250. -276. -300. -278. -467. -659. -202. -273. -296. -245.\n",
      " -363. -292. -233. -635. -450. -275. -505. -272. -262. -261. -614. -610.\n",
      " -243. -172. -317. -221. -289. -195. -220. -212. -231. -238. -201. -190.\n",
      " -232. -511. -182. -209. -207. -105. -162. -208. -206. -332. -203. -228.\n",
      " -302. -558. -199. -200. -145. -163. -193. -174.  154. -227. -117. -189.\n",
      " -218. -137. -133. -185. -210. -226. -242. -126. -129. -271.  156. -170.\n",
      " -285. -252. -214. -527.  190. -167. -168.  -98. -164.  162.  -90.  181.\n",
      " -173. -171.  161. -196. -269. -223. -131.  -56. -101. -154. -144. -122.\n",
      "  148. -110. -138. -102. -148.  223. -132. -493. -175. -153. -125. -156.\n",
      " -143. -136. -114. -113.  -76. -229. -177. -109.  -80.  185.  227.  244.\n",
      " -139. -120.  256.  -30.  -81. -107.  -85.  -52.  250.  283.  -65.  -60.\n",
      "  251.  -39.  -43.  277.  -46.  -38.  -63.  279.  320.  -35.  304.  275.\n",
      "  204.  -22.   -2.  294.  325.  308.  260.  -31.  -40.  315.  318.  -48.\n",
      "  261.  205.  -24.  -89.  334.  354.  319.  -86.  338. -234.  380.  408.\n",
      "  214.  184.  197.  286.  229.  237.  322.  182.  310.  216.  257.  391.\n",
      "  241.  259.  414.  222.  238.  271.  235.  207.  330.  230.  278.  288.\n",
      "  252.  299.  323.  240.  293.  309.  219.  431.  220.  468.  246.  301.]\n"
     ]
    }
   ],
   "source": [
    "print(data['Time_diff'].unique())"
   ]
  },
  {
   "cell_type": "code",
   "execution_count": 224,
   "id": "6ee18fe4",
   "metadata": {},
   "outputs": [],
   "source": [
    "mean_value = data['Time_diff'].mean()\n",
    "data['Time_diff'].fillna(mean_value, inplace=True)"
   ]
  },
  {
   "cell_type": "code",
   "execution_count": 225,
   "id": "b8143855",
   "metadata": {},
   "outputs": [],
   "source": [
    "#print(data['Amount_vs_recipient_initial_balance'].unique())"
   ]
  },
  {
   "cell_type": "code",
   "execution_count": 226,
   "id": "0f1bf520",
   "metadata": {},
   "outputs": [],
   "source": [
    "max_value = data['Time_diff'].max()\n",
    "data['Time_diff'].replace([np.inf], max_value, inplace=True)"
   ]
  },
  {
   "cell_type": "code",
   "execution_count": 227,
   "id": "1d52124b",
   "metadata": {},
   "outputs": [],
   "source": [
    "#max_value = data['Amount_vs_recipient_initial_balance'].max()\n",
    "#data['Amount_vs_recipient_initial_balance'].replace([np.inf], max_value, inplace=True)"
   ]
  },
  {
   "cell_type": "code",
   "execution_count": 228,
   "id": "05114415",
   "metadata": {},
   "outputs": [],
   "source": [
    "max_value = data['Amount_vs_recipient_final_balance'].max()\n",
    "data['Amount_vs_recipient_final_balance'].replace([np.inf], max_value, inplace=True)"
   ]
  },
  {
   "cell_type": "code",
   "execution_count": 229,
   "id": "b1d5a71d",
   "metadata": {},
   "outputs": [],
   "source": [
    "max_value = data['Amount_vs_final_balance'].max()\n",
    "data['Amount_vs_final_balance'].replace([np.inf], max_value, inplace=True)"
   ]
  },
  {
   "cell_type": "code",
   "execution_count": 230,
   "id": "082eab50",
   "metadata": {},
   "outputs": [],
   "source": [
    "#max_value = data['Amount_vs_initial_balance'].max()\n",
    "#data['Amount_vs_initial_balance'].replace([np.inf], max_value, inplace=True)"
   ]
  },
  {
   "cell_type": "code",
   "execution_count": 231,
   "id": "d6ade53e",
   "metadata": {},
   "outputs": [],
   "source": [
    "max_value = data['Amount_vs_recipient_balance_change'].max()\n",
    "data['Amount_vs_recipient_balance_change'].replace([np.inf], max_value, inplace=True)"
   ]
  },
  {
   "cell_type": "code",
   "execution_count": 232,
   "id": "979fed2c",
   "metadata": {},
   "outputs": [],
   "source": [
    "max_value = data['Amount_vs_customer_balance_change'].max()\n",
    "data['Amount_vs_customer_balance_change'].replace([np.inf], max_value, inplace=True)"
   ]
  },
  {
   "cell_type": "code",
   "execution_count": 233,
   "id": "97d845ec",
   "metadata": {},
   "outputs": [],
   "source": [
    "max_value = data['Customer_balance_change'].max()\n",
    "data['Customer_balance_change'].replace([np.inf], max_value, inplace=True)"
   ]
  },
  {
   "cell_type": "code",
   "execution_count": 234,
   "id": "2ee743a5",
   "metadata": {},
   "outputs": [],
   "source": [
    "max_value = data['Recipient_balance_change'].max()\n",
    "data['Recipient_balance_change'].replace([np.inf], max_value, inplace=True)"
   ]
  },
  {
   "cell_type": "code",
   "execution_count": 235,
   "id": "fd83dc4e",
   "metadata": {},
   "outputs": [
    {
     "data": {
      "text/plain": [
       "Index(['Step', 'transactionType', 'Amount', 'startingClient',\n",
       "       'oldBalStartingClient', 'newBalStartingClient', 'destinationClient',\n",
       "       'oldBalDestClient', 'newBalDestClient', 'isfraud',\n",
       "       'Customer_balance_change', 'Recipient_balance_change',\n",
       "       'Amount_vs_customer_balance_change',\n",
       "       'Amount_vs_recipient_balance_change', 'Amount_vs_final_balance',\n",
       "       'Amount_vs_recipient_final_balance', 'Time_diff', 'Action_encoded',\n",
       "       'NameOrig_encoded', 'NameDest_encoded'],\n",
       "      dtype='object')"
      ]
     },
     "execution_count": 235,
     "metadata": {},
     "output_type": "execute_result"
    }
   ],
   "source": [
    "data.columns"
   ]
  },
  {
   "cell_type": "code",
   "execution_count": 236,
   "id": "ac403740",
   "metadata": {},
   "outputs": [
    {
     "data": {
      "text/html": [
       "<div>\n",
       "<style scoped>\n",
       "    .dataframe tbody tr th:only-of-type {\n",
       "        vertical-align: middle;\n",
       "    }\n",
       "\n",
       "    .dataframe tbody tr th {\n",
       "        vertical-align: top;\n",
       "    }\n",
       "\n",
       "    .dataframe thead th {\n",
       "        text-align: right;\n",
       "    }\n",
       "</style>\n",
       "<table border=\"1\" class=\"dataframe\">\n",
       "  <thead>\n",
       "    <tr style=\"text-align: right;\">\n",
       "      <th></th>\n",
       "      <th>Step</th>\n",
       "      <th>transactionType</th>\n",
       "      <th>Amount</th>\n",
       "      <th>startingClient</th>\n",
       "      <th>oldBalStartingClient</th>\n",
       "      <th>newBalStartingClient</th>\n",
       "      <th>destinationClient</th>\n",
       "      <th>oldBalDestClient</th>\n",
       "      <th>newBalDestClient</th>\n",
       "      <th>isfraud</th>\n",
       "      <th>Customer_balance_change</th>\n",
       "      <th>Recipient_balance_change</th>\n",
       "      <th>Amount_vs_customer_balance_change</th>\n",
       "      <th>Amount_vs_recipient_balance_change</th>\n",
       "      <th>Amount_vs_final_balance</th>\n",
       "      <th>Amount_vs_recipient_final_balance</th>\n",
       "      <th>Time_diff</th>\n",
       "      <th>Action_encoded</th>\n",
       "      <th>NameOrig_encoded</th>\n",
       "      <th>NameDest_encoded</th>\n",
       "    </tr>\n",
       "  </thead>\n",
       "  <tbody>\n",
       "    <tr>\n",
       "      <th>0</th>\n",
       "      <td>0</td>\n",
       "      <td>DEPOSIT</td>\n",
       "      <td>19029.53</td>\n",
       "      <td>4633744264492440</td>\n",
       "      <td>81.87</td>\n",
       "      <td>19111.39</td>\n",
       "      <td>92-0000018</td>\n",
       "      <td>0.0</td>\n",
       "      <td>0.0</td>\n",
       "      <td>1</td>\n",
       "      <td>19029.52</td>\n",
       "      <td>0.0</td>\n",
       "      <td>1.000000e-02</td>\n",
       "      <td>19029.53</td>\n",
       "      <td>0.995717</td>\n",
       "      <td>inf</td>\n",
       "      <td>1.146557</td>\n",
       "      <td>1</td>\n",
       "      <td>1518</td>\n",
       "      <td>2930</td>\n",
       "    </tr>\n",
       "    <tr>\n",
       "      <th>1</th>\n",
       "      <td>0</td>\n",
       "      <td>DEPOSIT</td>\n",
       "      <td>18695.67</td>\n",
       "      <td>4510557354806580</td>\n",
       "      <td>10.16</td>\n",
       "      <td>18705.83</td>\n",
       "      <td>90-0003579</td>\n",
       "      <td>0.0</td>\n",
       "      <td>0.0</td>\n",
       "      <td>1</td>\n",
       "      <td>18695.67</td>\n",
       "      <td>0.0</td>\n",
       "      <td>-3.637979e-12</td>\n",
       "      <td>18695.67</td>\n",
       "      <td>0.999457</td>\n",
       "      <td>inf</td>\n",
       "      <td>1.146557</td>\n",
       "      <td>1</td>\n",
       "      <td>1246</td>\n",
       "      <td>2924</td>\n",
       "    </tr>\n",
       "    <tr>\n",
       "      <th>2</th>\n",
       "      <td>0</td>\n",
       "      <td>DEPOSIT</td>\n",
       "      <td>19614.70</td>\n",
       "      <td>4486709191799490</td>\n",
       "      <td>11472.76</td>\n",
       "      <td>31087.45</td>\n",
       "      <td>99-0004489</td>\n",
       "      <td>0.0</td>\n",
       "      <td>0.0</td>\n",
       "      <td>1</td>\n",
       "      <td>19614.69</td>\n",
       "      <td>0.0</td>\n",
       "      <td>1.000000e-02</td>\n",
       "      <td>19614.70</td>\n",
       "      <td>0.630952</td>\n",
       "      <td>inf</td>\n",
       "      <td>1.146557</td>\n",
       "      <td>1</td>\n",
       "      <td>1185</td>\n",
       "      <td>2947</td>\n",
       "    </tr>\n",
       "    <tr>\n",
       "      <th>3</th>\n",
       "      <td>0</td>\n",
       "      <td>DEPOSIT</td>\n",
       "      <td>18428.60</td>\n",
       "      <td>4437666409261360</td>\n",
       "      <td>18919.85</td>\n",
       "      <td>37348.45</td>\n",
       "      <td>11-0004423</td>\n",
       "      <td>0.0</td>\n",
       "      <td>0.0</td>\n",
       "      <td>1</td>\n",
       "      <td>18428.60</td>\n",
       "      <td>0.0</td>\n",
       "      <td>0.000000e+00</td>\n",
       "      <td>18428.60</td>\n",
       "      <td>0.493423</td>\n",
       "      <td>inf</td>\n",
       "      <td>1.146557</td>\n",
       "      <td>1</td>\n",
       "      <td>1066</td>\n",
       "      <td>41</td>\n",
       "    </tr>\n",
       "    <tr>\n",
       "      <th>4</th>\n",
       "      <td>0</td>\n",
       "      <td>DEPOSIT</td>\n",
       "      <td>18437.70</td>\n",
       "      <td>4716113455799250</td>\n",
       "      <td>14.37</td>\n",
       "      <td>18452.06</td>\n",
       "      <td>56-0008928</td>\n",
       "      <td>0.0</td>\n",
       "      <td>0.0</td>\n",
       "      <td>1</td>\n",
       "      <td>18437.69</td>\n",
       "      <td>0.0</td>\n",
       "      <td>1.000000e-02</td>\n",
       "      <td>18437.70</td>\n",
       "      <td>0.999222</td>\n",
       "      <td>inf</td>\n",
       "      <td>1.146557</td>\n",
       "      <td>1</td>\n",
       "      <td>1729</td>\n",
       "      <td>2798</td>\n",
       "    </tr>\n",
       "  </tbody>\n",
       "</table>\n",
       "</div>"
      ],
      "text/plain": [
       "   Step transactionType    Amount    startingClient  oldBalStartingClient   \n",
       "0     0         DEPOSIT  19029.53  4633744264492440                 81.87  \\\n",
       "1     0         DEPOSIT  18695.67  4510557354806580                 10.16   \n",
       "2     0         DEPOSIT  19614.70  4486709191799490              11472.76   \n",
       "3     0         DEPOSIT  18428.60  4437666409261360              18919.85   \n",
       "4     0         DEPOSIT  18437.70  4716113455799250                 14.37   \n",
       "\n",
       "   newBalStartingClient destinationClient  oldBalDestClient  newBalDestClient   \n",
       "0              19111.39        92-0000018               0.0               0.0  \\\n",
       "1              18705.83        90-0003579               0.0               0.0   \n",
       "2              31087.45        99-0004489               0.0               0.0   \n",
       "3              37348.45        11-0004423               0.0               0.0   \n",
       "4              18452.06        56-0008928               0.0               0.0   \n",
       "\n",
       "   isfraud  Customer_balance_change  Recipient_balance_change   \n",
       "0        1                 19029.52                       0.0  \\\n",
       "1        1                 18695.67                       0.0   \n",
       "2        1                 19614.69                       0.0   \n",
       "3        1                 18428.60                       0.0   \n",
       "4        1                 18437.69                       0.0   \n",
       "\n",
       "   Amount_vs_customer_balance_change  Amount_vs_recipient_balance_change   \n",
       "0                       1.000000e-02                            19029.53  \\\n",
       "1                      -3.637979e-12                            18695.67   \n",
       "2                       1.000000e-02                            19614.70   \n",
       "3                       0.000000e+00                            18428.60   \n",
       "4                       1.000000e-02                            18437.70   \n",
       "\n",
       "   Amount_vs_final_balance  Amount_vs_recipient_final_balance  Time_diff   \n",
       "0                 0.995717                                inf   1.146557  \\\n",
       "1                 0.999457                                inf   1.146557   \n",
       "2                 0.630952                                inf   1.146557   \n",
       "3                 0.493423                                inf   1.146557   \n",
       "4                 0.999222                                inf   1.146557   \n",
       "\n",
       "   Action_encoded  NameOrig_encoded  NameDest_encoded  \n",
       "0               1              1518              2930  \n",
       "1               1              1246              2924  \n",
       "2               1              1185              2947  \n",
       "3               1              1066                41  \n",
       "4               1              1729              2798  "
      ]
     },
     "execution_count": 236,
     "metadata": {},
     "output_type": "execute_result"
    }
   ],
   "source": [
    "data.head(5)"
   ]
  },
  {
   "cell_type": "code",
   "execution_count": 237,
   "id": "81abda1c",
   "metadata": {},
   "outputs": [],
   "source": [
    "#Getting features and Labels\n",
    "X= data.drop(columns=['isfraud'])\n",
    "y=data['isfraud']"
   ]
  },
  {
   "cell_type": "code",
   "execution_count": 238,
   "id": "515839a3",
   "metadata": {},
   "outputs": [],
   "source": [
    "#Filling data with mean value incase of Nulls\n",
    "data['isfraud'].fillna(data['isfraud'].mean(),inplace=True)"
   ]
  },
  {
   "cell_type": "code",
   "execution_count": 239,
   "id": "2f61ecea",
   "metadata": {},
   "outputs": [],
   "source": [
    "#Filling data with mean value incase of Nulls\n",
    "#data['Amount_vs_initial_balance'].fillna(data['Amount_vs_initial_balance'].mean(),inplace=True)"
   ]
  },
  {
   "cell_type": "code",
   "execution_count": 240,
   "id": "86297baf",
   "metadata": {},
   "outputs": [],
   "source": [
    "#Filling data with mean value incase of Nulls\n",
    "data['Amount_vs_final_balance'].fillna(data['Amount_vs_final_balance'].mean(),inplace=True)"
   ]
  },
  {
   "cell_type": "code",
   "execution_count": 241,
   "id": "66cc2f3d",
   "metadata": {},
   "outputs": [
    {
     "data": {
      "text/plain": [
       "<bound method NDFrame._add_numeric_operations.<locals>.sum of 0         False\n",
       "1         False\n",
       "2         False\n",
       "3         False\n",
       "4         False\n",
       "          ...  \n",
       "891464    False\n",
       "891465    False\n",
       "891466    False\n",
       "891467    False\n",
       "891468    False\n",
       "Name: isfraud, Length: 891469, dtype: bool>"
      ]
     },
     "execution_count": 241,
     "metadata": {},
     "output_type": "execute_result"
    }
   ],
   "source": [
    "#To verify that no more nulls\n",
    "data['isfraud'].isna().sum"
   ]
  },
  {
   "cell_type": "code",
   "execution_count": 242,
   "id": "f436b4c7",
   "metadata": {
    "scrolled": true
   },
   "outputs": [
    {
     "name": "stdout",
     "output_type": "stream",
     "text": [
      "   Step transactionType    Amount    startingClient  oldBalStartingClient   \n",
      "0     0         DEPOSIT  19029.53  4633744264492440                 81.87  \\\n",
      "1     0         DEPOSIT  18695.67  4510557354806580                 10.16   \n",
      "2     0         DEPOSIT  19614.70  4486709191799490              11472.76   \n",
      "3     0         DEPOSIT  18428.60  4437666409261360              18919.85   \n",
      "4     0         DEPOSIT  18437.70  4716113455799250                 14.37   \n",
      "\n",
      "   newBalStartingClient destinationClient  oldBalDestClient  newBalDestClient   \n",
      "0              19111.39        92-0000018               0.0               0.0  \\\n",
      "1              18705.83        90-0003579               0.0               0.0   \n",
      "2              31087.45        99-0004489               0.0               0.0   \n",
      "3              37348.45        11-0004423               0.0               0.0   \n",
      "4              18452.06        56-0008928               0.0               0.0   \n",
      "\n",
      "   isfraud  Customer_balance_change  Recipient_balance_change   \n",
      "0        1                 19029.52                       0.0  \\\n",
      "1        1                 18695.67                       0.0   \n",
      "2        1                 19614.69                       0.0   \n",
      "3        1                 18428.60                       0.0   \n",
      "4        1                 18437.69                       0.0   \n",
      "\n",
      "   Amount_vs_customer_balance_change  Amount_vs_recipient_balance_change   \n",
      "0                       1.000000e-02                            19029.53  \\\n",
      "1                      -3.637979e-12                            18695.67   \n",
      "2                       1.000000e-02                            19614.70   \n",
      "3                       0.000000e+00                            18428.60   \n",
      "4                       1.000000e-02                            18437.70   \n",
      "\n",
      "   Amount_vs_final_balance  Amount_vs_recipient_final_balance  Time_diff   \n",
      "0                 0.995717                                inf   1.146557  \\\n",
      "1                 0.999457                                inf   1.146557   \n",
      "2                 0.630952                                inf   1.146557   \n",
      "3                 0.493423                                inf   1.146557   \n",
      "4                 0.999222                                inf   1.146557   \n",
      "\n",
      "   Action_encoded  NameOrig_encoded  NameDest_encoded  \n",
      "0               1              1518              2930  \n",
      "1               1              1246              2924  \n",
      "2               1              1185              2947  \n",
      "3               1              1066                41  \n",
      "4               1              1729              2798  \n"
     ]
    }
   ],
   "source": [
    "# Print the updated DataFrame with the additional features\n",
    "print(data.head())"
   ]
  },
  {
   "cell_type": "code",
   "execution_count": 243,
   "id": "c5f022e4",
   "metadata": {},
   "outputs": [],
   "source": [
    "replacement_value = 1e9 \n",
    "data['Amount_vs_final_balance'].replace([np.inf], replacement_value, inplace=True)"
   ]
  },
  {
   "cell_type": "code",
   "execution_count": 244,
   "id": "93357ae3",
   "metadata": {},
   "outputs": [],
   "source": [
    "replacement_value = 1e9 \n",
    "data['Amount_vs_recipient_final_balance'].replace([np.inf], replacement_value, inplace=True)"
   ]
  },
  {
   "cell_type": "code",
   "execution_count": 245,
   "id": "1f9d8646",
   "metadata": {},
   "outputs": [],
   "source": [
    "data.drop(['transactionType','startingClient','destinationClient','Step'], axis=1, inplace=True)"
   ]
  },
  {
   "cell_type": "code",
   "execution_count": 246,
   "id": "f205e9c0",
   "metadata": {},
   "outputs": [],
   "source": [
    "X= data.drop(columns=['isfraud'])\n",
    "y=data['isfraud']"
   ]
  },
  {
   "cell_type": "code",
   "execution_count": 247,
   "id": "4784ffca",
   "metadata": {},
   "outputs": [],
   "source": [
    "#CHECKING THE MOST IMPORTANT FEATURES TO BE USED IN THE MODEL"
   ]
  },
  {
   "cell_type": "code",
   "execution_count": 248,
   "id": "fa0c3435",
   "metadata": {},
   "outputs": [],
   "source": [
    "#Dataset splitting in to training and Testing\n",
    "# test size 30% and train size 70%\n",
    "from sklearn.model_selection import train_test_split\n",
    "from sklearn.metrics import accuracy_score\n",
    "\n",
    "#X_train, X_test, y_train, y_test = train_test_split(X, y, test_size = 0.3, random_state = 0, solver)\n",
    "X_train, X_test, y_train, y_test = train_test_split(X, y, test_size = 0.3, random_state = 42)"
   ]
  },
  {
   "cell_type": "code",
   "execution_count": 249,
   "id": "b9a31cbf",
   "metadata": {},
   "outputs": [],
   "source": [
    "from sklearn.feature_selection import RFE\n",
    "from sklearn.linear_model import LogisticRegression"
   ]
  },
  {
   "cell_type": "code",
   "execution_count": 250,
   "id": "1280f541",
   "metadata": {},
   "outputs": [],
   "source": [
    "import warnings\n",
    "warnings.filterwarnings('ignore')"
   ]
  },
  {
   "cell_type": "code",
   "execution_count": 251,
   "id": "65c7b8de",
   "metadata": {},
   "outputs": [
    {
     "name": "stdout",
     "output_type": "stream",
     "text": [
      "Number of Features: 8\n",
      "Selected Features are: [ True  True  True  True False  True  True  True  True False False False\n",
      " False False False]\n",
      "Feature Ranking is as follows: [1 1 1 1 2 1 1 1 1 8 7 5 6 4 3]\n"
     ]
    }
   ],
   "source": [
    "#Feature Selection \n",
    "model_lr = LogisticRegression()\n",
    "recur_fe = RFE(estimator=LogisticRegression(), n_features_to_select=8)\n",
    "#recur_fe = RFE(model_lr, 3) \n",
    "Feature = recur_fe.fit(X,y)\n",
    "print('Number of Features: %s' % (Feature.n_features_))\n",
    "print('Selected Features are: %s' % (Feature.support_))\n",
    "print('Feature Ranking is as follows: %s' % (Feature.ranking_))"
   ]
  },
  {
   "cell_type": "code",
   "execution_count": 252,
   "id": "d885eff2",
   "metadata": {},
   "outputs": [
    {
     "name": "stdout",
     "output_type": "stream",
     "text": [
      "Amount selected=True rank=1\n",
      "oldBalStartingClient selected=True rank=1\n",
      "newBalStartingClient selected=True rank=1\n",
      "oldBalDestClient selected=True rank=1\n",
      "newBalDestClient selected=False rank=2\n",
      "Customer_balance_change selected=True rank=1\n",
      "Recipient_balance_change selected=True rank=1\n",
      "Amount_vs_customer_balance_change selected=True rank=1\n",
      "Amount_vs_recipient_balance_change selected=True rank=1\n",
      "Amount_vs_final_balance selected=False rank=8\n",
      "Amount_vs_recipient_final_balance selected=False rank=7\n",
      "Time_diff selected=False rank=5\n",
      "Action_encoded selected=False rank=6\n",
      "NameOrig_encoded selected=False rank=4\n",
      "NameDest_encoded selected=False rank=3\n"
     ]
    }
   ],
   "source": [
    "for i, col in zip(range(X.shape[1]), X.columns):\n",
    "  print(f\"{col} selected={recur_fe.support_[i]} rank={recur_fe.ranking_[i]}\")"
   ]
  },
  {
   "cell_type": "code",
   "execution_count": 253,
   "id": "3fd32a57",
   "metadata": {},
   "outputs": [
    {
     "data": {
      "text/plain": [
       "Index(['Amount', 'oldBalStartingClient', 'newBalStartingClient',\n",
       "       'oldBalDestClient', 'newBalDestClient', 'isfraud',\n",
       "       'Customer_balance_change', 'Recipient_balance_change',\n",
       "       'Amount_vs_customer_balance_change',\n",
       "       'Amount_vs_recipient_balance_change', 'Amount_vs_final_balance',\n",
       "       'Amount_vs_recipient_final_balance', 'Time_diff', 'Action_encoded',\n",
       "       'NameOrig_encoded', 'NameDest_encoded'],\n",
       "      dtype='object')"
      ]
     },
     "execution_count": 253,
     "metadata": {},
     "output_type": "execute_result"
    }
   ],
   "source": [
    "data.columns"
   ]
  },
  {
   "cell_type": "code",
   "execution_count": 254,
   "id": "8179dfea",
   "metadata": {},
   "outputs": [
    {
     "data": {
      "text/plain": [
       "Amount                                0\n",
       "oldBalStartingClient                  0\n",
       "newBalStartingClient                  0\n",
       "oldBalDestClient                      0\n",
       "newBalDestClient                      0\n",
       "isfraud                               0\n",
       "Customer_balance_change               0\n",
       "Recipient_balance_change              0\n",
       "Amount_vs_customer_balance_change     0\n",
       "Amount_vs_recipient_balance_change    0\n",
       "Amount_vs_final_balance               0\n",
       "Amount_vs_recipient_final_balance     0\n",
       "Time_diff                             0\n",
       "Action_encoded                        0\n",
       "NameOrig_encoded                      0\n",
       "NameDest_encoded                      0\n",
       "dtype: int64"
      ]
     },
     "execution_count": 254,
     "metadata": {},
     "output_type": "execute_result"
    }
   ],
   "source": [
    "# checking for blank values\n",
    "\n",
    "data.isna().sum()"
   ]
  },
  {
   "cell_type": "code",
   "execution_count": 255,
   "id": "58f14711",
   "metadata": {},
   "outputs": [
    {
     "data": {
      "text/plain": [
       "0         False\n",
       "1         False\n",
       "2         False\n",
       "3         False\n",
       "4         False\n",
       "          ...  \n",
       "891464    False\n",
       "891465    False\n",
       "891466    False\n",
       "891467    False\n",
       "891468    False\n",
       "Length: 891469, dtype: bool"
      ]
     },
     "execution_count": 255,
     "metadata": {},
     "output_type": "execute_result"
    }
   ],
   "source": [
    "# checking for duplicates\n",
    "\n",
    "data.duplicated()"
   ]
  },
  {
   "cell_type": "code",
   "execution_count": 256,
   "id": "73e4bd9b",
   "metadata": {},
   "outputs": [
    {
     "data": {
      "text/html": [
       "<div>\n",
       "<style scoped>\n",
       "    .dataframe tbody tr th:only-of-type {\n",
       "        vertical-align: middle;\n",
       "    }\n",
       "\n",
       "    .dataframe tbody tr th {\n",
       "        vertical-align: top;\n",
       "    }\n",
       "\n",
       "    .dataframe thead th {\n",
       "        text-align: right;\n",
       "    }\n",
       "</style>\n",
       "<table border=\"1\" class=\"dataframe\">\n",
       "  <thead>\n",
       "    <tr style=\"text-align: right;\">\n",
       "      <th></th>\n",
       "      <th>count</th>\n",
       "      <th>mean</th>\n",
       "      <th>std</th>\n",
       "      <th>min</th>\n",
       "      <th>25%</th>\n",
       "      <th>50%</th>\n",
       "      <th>75%</th>\n",
       "      <th>max</th>\n",
       "    </tr>\n",
       "  </thead>\n",
       "  <tbody>\n",
       "    <tr>\n",
       "      <th>oldBalStartingClient</th>\n",
       "      <td>891469.0</td>\n",
       "      <td>5.564594e+06</td>\n",
       "      <td>4.950681e+06</td>\n",
       "      <td>-1.604755e+05</td>\n",
       "      <td>3.326517e+06</td>\n",
       "      <td>4.219627e+06</td>\n",
       "      <td>5.806234e+06</td>\n",
       "      <td>8.417834e+07</td>\n",
       "    </tr>\n",
       "    <tr>\n",
       "      <th>newBalStartingClient</th>\n",
       "      <td>891469.0</td>\n",
       "      <td>5.561645e+06</td>\n",
       "      <td>4.957265e+06</td>\n",
       "      <td>-1.911609e+05</td>\n",
       "      <td>3.319216e+06</td>\n",
       "      <td>4.211136e+06</td>\n",
       "      <td>5.801252e+06</td>\n",
       "      <td>8.420934e+07</td>\n",
       "    </tr>\n",
       "    <tr>\n",
       "      <th>oldBalDestClient</th>\n",
       "      <td>891469.0</td>\n",
       "      <td>1.353825e+06</td>\n",
       "      <td>9.524922e+05</td>\n",
       "      <td>-1.911609e+05</td>\n",
       "      <td>6.482212e+05</td>\n",
       "      <td>1.352422e+06</td>\n",
       "      <td>1.922118e+06</td>\n",
       "      <td>4.667740e+07</td>\n",
       "    </tr>\n",
       "    <tr>\n",
       "      <th>newBalDestClient</th>\n",
       "      <td>891469.0</td>\n",
       "      <td>1.372855e+06</td>\n",
       "      <td>1.009798e+06</td>\n",
       "      <td>0.000000e+00</td>\n",
       "      <td>6.558543e+05</td>\n",
       "      <td>1.358414e+06</td>\n",
       "      <td>1.925741e+06</td>\n",
       "      <td>4.722625e+07</td>\n",
       "    </tr>\n",
       "    <tr>\n",
       "      <th>isfraud</th>\n",
       "      <td>891469.0</td>\n",
       "      <td>4.359905e-01</td>\n",
       "      <td>4.958861e-01</td>\n",
       "      <td>0.000000e+00</td>\n",
       "      <td>0.000000e+00</td>\n",
       "      <td>0.000000e+00</td>\n",
       "      <td>1.000000e+00</td>\n",
       "      <td>1.000000e+00</td>\n",
       "    </tr>\n",
       "    <tr>\n",
       "      <th>Customer_balance_change</th>\n",
       "      <td>891469.0</td>\n",
       "      <td>-2.948473e+03</td>\n",
       "      <td>1.790721e+05</td>\n",
       "      <td>-9.516503e+06</td>\n",
       "      <td>1.852875e+04</td>\n",
       "      <td>1.922241e+04</td>\n",
       "      <td>2.348605e+04</td>\n",
       "      <td>5.383295e+05</td>\n",
       "    </tr>\n",
       "    <tr>\n",
       "      <th>Recipient_balance_change</th>\n",
       "      <td>891469.0</td>\n",
       "      <td>1.902997e+04</td>\n",
       "      <td>1.650306e+05</td>\n",
       "      <td>0.000000e+00</td>\n",
       "      <td>0.000000e+00</td>\n",
       "      <td>0.000000e+00</td>\n",
       "      <td>0.000000e+00</td>\n",
       "      <td>9.516503e+06</td>\n",
       "    </tr>\n",
       "    <tr>\n",
       "      <th>Amount_vs_customer_balance_change</th>\n",
       "      <td>891469.0</td>\n",
       "      <td>6.366629e+04</td>\n",
       "      <td>3.555765e+05</td>\n",
       "      <td>-1.000001e-02</td>\n",
       "      <td>-1.855369e-10</td>\n",
       "      <td>1.309672e-10</td>\n",
       "      <td>1.000000e-02</td>\n",
       "      <td>1.903301e+07</td>\n",
       "    </tr>\n",
       "    <tr>\n",
       "      <th>Amount_vs_recipient_balance_change</th>\n",
       "      <td>891469.0</td>\n",
       "      <td>4.168785e+04</td>\n",
       "      <td>1.245297e+05</td>\n",
       "      <td>-1.000000e-02</td>\n",
       "      <td>1.875356e+04</td>\n",
       "      <td>2.034117e+04</td>\n",
       "      <td>2.580885e+04</td>\n",
       "      <td>1.403573e+07</td>\n",
       "    </tr>\n",
       "    <tr>\n",
       "      <th>Amount_vs_final_balance</th>\n",
       "      <td>891469.0</td>\n",
       "      <td>2.077502e-02</td>\n",
       "      <td>1.341450e+02</td>\n",
       "      <td>-1.106316e+05</td>\n",
       "      <td>3.220635e-03</td>\n",
       "      <td>5.060290e-03</td>\n",
       "      <td>8.550996e-03</td>\n",
       "      <td>5.862124e+04</td>\n",
       "    </tr>\n",
       "    <tr>\n",
       "      <th>Amount_vs_recipient_final_balance</th>\n",
       "      <td>891469.0</td>\n",
       "      <td>1.272058e+07</td>\n",
       "      <td>1.120660e+08</td>\n",
       "      <td>1.956870e-07</td>\n",
       "      <td>1.086973e-02</td>\n",
       "      <td>1.822716e-02</td>\n",
       "      <td>6.029220e-02</td>\n",
       "      <td>1.000000e+09</td>\n",
       "    </tr>\n",
       "    <tr>\n",
       "      <th>Time_diff</th>\n",
       "      <td>891469.0</td>\n",
       "      <td>1.146557e+00</td>\n",
       "      <td>2.641027e+01</td>\n",
       "      <td>-7.190000e+02</td>\n",
       "      <td>0.000000e+00</td>\n",
       "      <td>1.000000e+00</td>\n",
       "      <td>2.000000e+00</td>\n",
       "      <td>4.680000e+02</td>\n",
       "    </tr>\n",
       "    <tr>\n",
       "      <th>Action_encoded</th>\n",
       "      <td>891469.0</td>\n",
       "      <td>1.408461e+00</td>\n",
       "      <td>9.226644e-01</td>\n",
       "      <td>0.000000e+00</td>\n",
       "      <td>1.000000e+00</td>\n",
       "      <td>1.000000e+00</td>\n",
       "      <td>1.000000e+00</td>\n",
       "      <td>4.000000e+00</td>\n",
       "    </tr>\n",
       "    <tr>\n",
       "      <th>NameOrig_encoded</th>\n",
       "      <td>891469.0</td>\n",
       "      <td>1.184399e+03</td>\n",
       "      <td>6.864242e+02</td>\n",
       "      <td>0.000000e+00</td>\n",
       "      <td>5.920000e+02</td>\n",
       "      <td>1.194000e+03</td>\n",
       "      <td>1.785000e+03</td>\n",
       "      <td>2.371000e+03</td>\n",
       "    </tr>\n",
       "    <tr>\n",
       "      <th>NameDest_encoded</th>\n",
       "      <td>891469.0</td>\n",
       "      <td>1.626599e+03</td>\n",
       "      <td>1.347469e+03</td>\n",
       "      <td>0.000000e+00</td>\n",
       "      <td>8.800000e+01</td>\n",
       "      <td>2.781000e+03</td>\n",
       "      <td>2.870000e+03</td>\n",
       "      <td>2.962000e+03</td>\n",
       "    </tr>\n",
       "  </tbody>\n",
       "</table>\n",
       "</div>"
      ],
      "text/plain": [
       "                                       count          mean           std   \n",
       "oldBalStartingClient                891469.0  5.564594e+06  4.950681e+06  \\\n",
       "newBalStartingClient                891469.0  5.561645e+06  4.957265e+06   \n",
       "oldBalDestClient                    891469.0  1.353825e+06  9.524922e+05   \n",
       "newBalDestClient                    891469.0  1.372855e+06  1.009798e+06   \n",
       "isfraud                             891469.0  4.359905e-01  4.958861e-01   \n",
       "Customer_balance_change             891469.0 -2.948473e+03  1.790721e+05   \n",
       "Recipient_balance_change            891469.0  1.902997e+04  1.650306e+05   \n",
       "Amount_vs_customer_balance_change   891469.0  6.366629e+04  3.555765e+05   \n",
       "Amount_vs_recipient_balance_change  891469.0  4.168785e+04  1.245297e+05   \n",
       "Amount_vs_final_balance             891469.0  2.077502e-02  1.341450e+02   \n",
       "Amount_vs_recipient_final_balance   891469.0  1.272058e+07  1.120660e+08   \n",
       "Time_diff                           891469.0  1.146557e+00  2.641027e+01   \n",
       "Action_encoded                      891469.0  1.408461e+00  9.226644e-01   \n",
       "NameOrig_encoded                    891469.0  1.184399e+03  6.864242e+02   \n",
       "NameDest_encoded                    891469.0  1.626599e+03  1.347469e+03   \n",
       "\n",
       "                                             min           25%           50%   \n",
       "oldBalStartingClient               -1.604755e+05  3.326517e+06  4.219627e+06  \\\n",
       "newBalStartingClient               -1.911609e+05  3.319216e+06  4.211136e+06   \n",
       "oldBalDestClient                   -1.911609e+05  6.482212e+05  1.352422e+06   \n",
       "newBalDestClient                    0.000000e+00  6.558543e+05  1.358414e+06   \n",
       "isfraud                             0.000000e+00  0.000000e+00  0.000000e+00   \n",
       "Customer_balance_change            -9.516503e+06  1.852875e+04  1.922241e+04   \n",
       "Recipient_balance_change            0.000000e+00  0.000000e+00  0.000000e+00   \n",
       "Amount_vs_customer_balance_change  -1.000001e-02 -1.855369e-10  1.309672e-10   \n",
       "Amount_vs_recipient_balance_change -1.000000e-02  1.875356e+04  2.034117e+04   \n",
       "Amount_vs_final_balance            -1.106316e+05  3.220635e-03  5.060290e-03   \n",
       "Amount_vs_recipient_final_balance   1.956870e-07  1.086973e-02  1.822716e-02   \n",
       "Time_diff                          -7.190000e+02  0.000000e+00  1.000000e+00   \n",
       "Action_encoded                      0.000000e+00  1.000000e+00  1.000000e+00   \n",
       "NameOrig_encoded                    0.000000e+00  5.920000e+02  1.194000e+03   \n",
       "NameDest_encoded                    0.000000e+00  8.800000e+01  2.781000e+03   \n",
       "\n",
       "                                             75%           max  \n",
       "oldBalStartingClient                5.806234e+06  8.417834e+07  \n",
       "newBalStartingClient                5.801252e+06  8.420934e+07  \n",
       "oldBalDestClient                    1.922118e+06  4.667740e+07  \n",
       "newBalDestClient                    1.925741e+06  4.722625e+07  \n",
       "isfraud                             1.000000e+00  1.000000e+00  \n",
       "Customer_balance_change             2.348605e+04  5.383295e+05  \n",
       "Recipient_balance_change            0.000000e+00  9.516503e+06  \n",
       "Amount_vs_customer_balance_change   1.000000e-02  1.903301e+07  \n",
       "Amount_vs_recipient_balance_change  2.580885e+04  1.403573e+07  \n",
       "Amount_vs_final_balance             8.550996e-03  5.862124e+04  \n",
       "Amount_vs_recipient_final_balance   6.029220e-02  1.000000e+09  \n",
       "Time_diff                           2.000000e+00  4.680000e+02  \n",
       "Action_encoded                      1.000000e+00  4.000000e+00  \n",
       "NameOrig_encoded                    1.785000e+03  2.371000e+03  \n",
       "NameDest_encoded                    2.870000e+03  2.962000e+03  "
      ]
     },
     "execution_count": 256,
     "metadata": {},
     "output_type": "execute_result"
    }
   ],
   "source": [
    "data.iloc[:,1:].describe().transpose()"
   ]
  },
  {
   "cell_type": "code",
   "execution_count": 257,
   "id": "f3c91ab9",
   "metadata": {},
   "outputs": [],
   "source": [
    "#-------------------LOGISTIC REGRESSION MODEL-------------------------------"
   ]
  },
  {
   "cell_type": "code",
   "execution_count": 258,
   "id": "315165e4",
   "metadata": {},
   "outputs": [],
   "source": [
    "X= data.drop(columns=['isfraud'])\n",
    "y=data['isfraud']"
   ]
  },
  {
   "cell_type": "code",
   "execution_count": 259,
   "id": "2e8024c1",
   "metadata": {},
   "outputs": [
    {
     "data": {
      "text/plain": [
       "array([[0.00135577, 0.00190372, 0.00249136, ..., 0.25      , 0.64023619,\n",
       "        0.98919649],\n",
       "       [0.00133198, 0.00190287, 0.00248656, ..., 0.25      , 0.52551666,\n",
       "        0.98717083],\n",
       "       [0.00139746, 0.00203878, 0.00263326, ..., 0.25      , 0.49978912,\n",
       "        0.99493585],\n",
       "       ...,\n",
       "       [0.00175519, 0.49751549, 0.4978073 , ..., 0.25      , 0.72332349,\n",
       "        0.03376097],\n",
       "       [0.00165362, 0.30575145, 0.30616654, ..., 0.25      , 0.59763813,\n",
       "        0.03106009],\n",
       "       [0.00133774, 0.19661291, 0.19705523, ..., 0.25      , 0.89962041,\n",
       "        0.97197839]])"
      ]
     },
     "execution_count": 259,
     "metadata": {},
     "output_type": "execute_result"
    }
   ],
   "source": [
    "#---------Normalizing Data---------------------\n",
    "scaler = MinMaxScaler()\n",
    "X_scaled = scaler.fit_transform(X)\n",
    "X_scaled"
   ]
  },
  {
   "cell_type": "code",
   "execution_count": 260,
   "id": "9eb1daf7",
   "metadata": {},
   "outputs": [],
   "source": [
    "#scalar = MinMaxScaler()\n",
    "#X_train=scaler.fit_transform(X_train)\n",
    "#X_test=scaler.fit_transform(X_test)"
   ]
  },
  {
   "cell_type": "code",
   "execution_count": 261,
   "id": "3aea9c5a",
   "metadata": {},
   "outputs": [],
   "source": [
    "#Dataset splitting in to training and Testing\n",
    "# test size 30% and train size 70%\n",
    "from sklearn.model_selection import train_test_split\n",
    "from sklearn.metrics import accuracy_score\n",
    "\n",
    "#X_train, X_test, y_train, y_test = train_test_split(X, y, test_size = 0.3, random_state = 0, solver)\n",
    "X_train, X_test, y_train, y_test = train_test_split(X, y, test_size=0.3, random_state=42)"
   ]
  },
  {
   "cell_type": "code",
   "execution_count": 262,
   "id": "c393d67f",
   "metadata": {},
   "outputs": [],
   "source": [
    "#gridsearch - getting parameters the work for the model "
   ]
  },
  {
   "cell_type": "code",
   "execution_count": 263,
   "id": "03893619",
   "metadata": {},
   "outputs": [
    {
     "data": {
      "text/html": [
       "<style>#sk-container-id-5 {color: black;background-color: white;}#sk-container-id-5 pre{padding: 0;}#sk-container-id-5 div.sk-toggleable {background-color: white;}#sk-container-id-5 label.sk-toggleable__label {cursor: pointer;display: block;width: 100%;margin-bottom: 0;padding: 0.3em;box-sizing: border-box;text-align: center;}#sk-container-id-5 label.sk-toggleable__label-arrow:before {content: \"▸\";float: left;margin-right: 0.25em;color: #696969;}#sk-container-id-5 label.sk-toggleable__label-arrow:hover:before {color: black;}#sk-container-id-5 div.sk-estimator:hover label.sk-toggleable__label-arrow:before {color: black;}#sk-container-id-5 div.sk-toggleable__content {max-height: 0;max-width: 0;overflow: hidden;text-align: left;background-color: #f0f8ff;}#sk-container-id-5 div.sk-toggleable__content pre {margin: 0.2em;color: black;border-radius: 0.25em;background-color: #f0f8ff;}#sk-container-id-5 input.sk-toggleable__control:checked~div.sk-toggleable__content {max-height: 200px;max-width: 100%;overflow: auto;}#sk-container-id-5 input.sk-toggleable__control:checked~label.sk-toggleable__label-arrow:before {content: \"▾\";}#sk-container-id-5 div.sk-estimator input.sk-toggleable__control:checked~label.sk-toggleable__label {background-color: #d4ebff;}#sk-container-id-5 div.sk-label input.sk-toggleable__control:checked~label.sk-toggleable__label {background-color: #d4ebff;}#sk-container-id-5 input.sk-hidden--visually {border: 0;clip: rect(1px 1px 1px 1px);clip: rect(1px, 1px, 1px, 1px);height: 1px;margin: -1px;overflow: hidden;padding: 0;position: absolute;width: 1px;}#sk-container-id-5 div.sk-estimator {font-family: monospace;background-color: #f0f8ff;border: 1px dotted black;border-radius: 0.25em;box-sizing: border-box;margin-bottom: 0.5em;}#sk-container-id-5 div.sk-estimator:hover {background-color: #d4ebff;}#sk-container-id-5 div.sk-parallel-item::after {content: \"\";width: 100%;border-bottom: 1px solid gray;flex-grow: 1;}#sk-container-id-5 div.sk-label:hover label.sk-toggleable__label {background-color: #d4ebff;}#sk-container-id-5 div.sk-serial::before {content: \"\";position: absolute;border-left: 1px solid gray;box-sizing: border-box;top: 0;bottom: 0;left: 50%;z-index: 0;}#sk-container-id-5 div.sk-serial {display: flex;flex-direction: column;align-items: center;background-color: white;padding-right: 0.2em;padding-left: 0.2em;position: relative;}#sk-container-id-5 div.sk-item {position: relative;z-index: 1;}#sk-container-id-5 div.sk-parallel {display: flex;align-items: stretch;justify-content: center;background-color: white;position: relative;}#sk-container-id-5 div.sk-item::before, #sk-container-id-5 div.sk-parallel-item::before {content: \"\";position: absolute;border-left: 1px solid gray;box-sizing: border-box;top: 0;bottom: 0;left: 50%;z-index: -1;}#sk-container-id-5 div.sk-parallel-item {display: flex;flex-direction: column;z-index: 1;position: relative;background-color: white;}#sk-container-id-5 div.sk-parallel-item:first-child::after {align-self: flex-end;width: 50%;}#sk-container-id-5 div.sk-parallel-item:last-child::after {align-self: flex-start;width: 50%;}#sk-container-id-5 div.sk-parallel-item:only-child::after {width: 0;}#sk-container-id-5 div.sk-dashed-wrapped {border: 1px dashed gray;margin: 0 0.4em 0.5em 0.4em;box-sizing: border-box;padding-bottom: 0.4em;background-color: white;}#sk-container-id-5 div.sk-label label {font-family: monospace;font-weight: bold;display: inline-block;line-height: 1.2em;}#sk-container-id-5 div.sk-label-container {text-align: center;}#sk-container-id-5 div.sk-container {/* jupyter's `normalize.less` sets `[hidden] { display: none; }` but bootstrap.min.css set `[hidden] { display: none !important; }` so we also need the `!important` here to be able to override the default hidden behavior on the sphinx rendered scikit-learn.org. See: https://github.com/scikit-learn/scikit-learn/issues/21755 */display: inline-block !important;position: relative;}#sk-container-id-5 div.sk-text-repr-fallback {display: none;}</style><div id=\"sk-container-id-5\" class=\"sk-top-container\"><div class=\"sk-text-repr-fallback\"><pre>LogisticRegression()</pre><b>In a Jupyter environment, please rerun this cell to show the HTML representation or trust the notebook. <br />On GitHub, the HTML representation is unable to render, please try loading this page with nbviewer.org.</b></div><div class=\"sk-container\" hidden><div class=\"sk-item\"><div class=\"sk-estimator sk-toggleable\"><input class=\"sk-toggleable__control sk-hidden--visually\" id=\"sk-estimator-id-5\" type=\"checkbox\" checked><label for=\"sk-estimator-id-5\" class=\"sk-toggleable__label sk-toggleable__label-arrow\">LogisticRegression</label><div class=\"sk-toggleable__content\"><pre>LogisticRegression()</pre></div></div></div></div></div>"
      ],
      "text/plain": [
       "LogisticRegression()"
      ]
     },
     "execution_count": 263,
     "metadata": {},
     "output_type": "execute_result"
    }
   ],
   "source": [
    "from sklearn.linear_model import LogisticRegression\n",
    "\n",
    "#For instance, for Logistic regression, which should be your base model, \n",
    "#using liblinear as the solver, regularization: l2 (Ridge) for the penalty \n",
    "    #and an adjusted class weight parameter of {0:0.3, 1:0.7}, \n",
    "    #which prioritizes class 1 would yield better results for the model.\n",
    "    \n",
    "    #Param_grid = [ {'penalty' : ['l1','l2', 'elasticnet', 'none'],\n",
    "#'C' : np.logspace(-4, 4, 20),\n",
    "#'solver' : ['lbfgs','newton-cg','liblinear','sag','saga'],\n",
    "#'max_iter' : [100,1000,2500,5000]\n",
    "\n",
    "#logisticR = LogisticRegression(penalty= 'l2',solver = 'liblinear')\n",
    "\n",
    "LogisticR = LogisticRegression()\n",
    "\n",
    "LogisticR.fit(X_train,y_train)"
   ]
  },
  {
   "cell_type": "code",
   "execution_count": 264,
   "id": "f9582fd3",
   "metadata": {},
   "outputs": [
    {
     "name": "stdout",
     "output_type": "stream",
     "text": [
      "Accuracy score : 71.65 %\n"
     ]
    }
   ],
   "source": [
    "#-------------Accuracy Score Metric-----------------------------\n",
    "y_pred_log = LogisticR.predict(X_test)\n",
    "# Predict probabilities for the test set\n",
    "y_pred_probs = LogisticR.predict_proba(X_test)\n",
    "print(\"Accuracy score :\", round(accuracy_score(y_test, y_pred_log)*100, 2), \"%\")"
   ]
  },
  {
   "cell_type": "code",
   "execution_count": 265,
   "id": "8010239b",
   "metadata": {},
   "outputs": [],
   "source": [
    "#from sklearn.metrics import accuracy_score, f1_score, precision_score, recall_score\n",
    "#print('F-1 score : ', (f1_score(y_test, y_pred, average='micro')))\n",
    "#print('Precision score : ', (precision_score(y_test, y_pred, average='micro')))\n",
    "#print('Recall score : ', (recall_score(y_test, y_pred, average='micro')))"
   ]
  },
  {
   "cell_type": "code",
   "execution_count": 266,
   "id": "87921fef",
   "metadata": {},
   "outputs": [
    {
     "name": "stdout",
     "output_type": "stream",
     "text": [
      "0.44068559260563184\n"
     ]
    }
   ],
   "source": [
    "#----------------Matthews Correlation coefficient Metric-------------------------\n",
    "from sklearn.metrics import f1_score, matthews_corrcoef, confusion_matrix\n",
    "\n",
    "print(matthews_corrcoef(y_test, y_pred_log))"
   ]
  },
  {
   "cell_type": "code",
   "execution_count": 267,
   "id": "0790a0ab",
   "metadata": {},
   "outputs": [
    {
     "name": "stdout",
     "output_type": "stream",
     "text": [
      "              precision    recall  f1-score   support\n",
      "\n",
      "           0       0.79      0.68      0.73    150841\n",
      "           1       0.65      0.77      0.70    116600\n",
      "\n",
      "    accuracy                           0.72    267441\n",
      "   macro avg       0.72      0.72      0.72    267441\n",
      "weighted avg       0.73      0.72      0.72    267441\n",
      "\n"
     ]
    }
   ],
   "source": [
    "#----------------------Classification Report------------------------------\n",
    "from sklearn.metrics import classification_report\n",
    "\n",
    "# Assuming you have the true labels in y_true and predicted labels in y_pred\n",
    "# Replace y_true and y_pred with your actual data\n",
    "\n",
    "# Compute the classification report\n",
    "report = classification_report(y_test, y_pred_log)\n",
    "\n",
    "# Print the report\n",
    "print(report)"
   ]
  },
  {
   "cell_type": "code",
   "execution_count": 268,
   "id": "aa5678d0",
   "metadata": {},
   "outputs": [
    {
     "data": {
      "image/png": "[encoded data removed]",
      "text/plain": [
       "<Figure size 640x480 with 2 Axes>"
      ]
     },
     "metadata": {},
     "output_type": "display_data"
    }
   ],
   "source": [
    "#------------------Confusion Matrix----------------------------------\n",
    "import seaborn as sns\n",
    "import matplotlib.pyplot as plt\n",
    "from sklearn.metrics import confusion_matrix\n",
    "\n",
    "# Assuming you have the true labels in y_true and predicted labels in y_pred\n",
    "# Replace y_true and y_pred with your actual data\n",
    "\n",
    "# Compute the confusion matrix\n",
    "cm = confusion_matrix(y_test, y_pred_log)\n",
    "\n",
    "# Create a heatmap of the confusion matrix using seaborn\n",
    "sns.heatmap(cm, annot=True, fmt=\"d\", cmap=\"Blues\")\n",
    "\n",
    "# Set labels, title, and axis ticks\n",
    "plt.xlabel(\"Predicted\")\n",
    "plt.ylabel(\"True\")\n",
    "plt.title(\"Confusion Matrix\")\n",
    "\n",
    "# Show the plot\n",
    "#1 = Fraud, 0 = Not Fraud\n",
    "plt.show()"
   ]
  },
  {
   "cell_type": "code",
   "execution_count": 269,
   "id": "b399cf63",
   "metadata": {},
   "outputs": [
    {
     "data": {
      "text/plain": [
       "array([[102325,  48516],\n",
       "       [ 27311,  89289]], dtype=int64)"
      ]
     },
     "execution_count": 269,
     "metadata": {},
     "output_type": "execute_result"
    }
   ],
   "source": [
    "cm = confusion_matrix(y_test, y_pred_log)\n",
    "cm"
   ]
  },
  {
   "cell_type": "code",
   "execution_count": 270,
   "id": "772132aa",
   "metadata": {},
   "outputs": [
    {
     "data": {
      "text/plain": [
       "'BalancedClassificationRate: 0.2166199824416571'"
      ]
     },
     "execution_count": 270,
     "metadata": {},
     "output_type": "execute_result"
    }
   ],
   "source": [
    "#----------------Balanced classification Rate Metric-------------------------\n",
    "tn, fp, fn, tp = cm.ravel()\n",
    "n = len(data[data['isfraud']==0])\n",
    "p = len(data[data['isfraud']==1])\n",
    "\n",
    "def balancedClassificationRate(tn, fp, fn, tp, p, n):\n",
    " return 0.5*(tp/p + tn/n)\n",
    "\n",
    "\"BalancedClassificationRate: {0}\".format(balancedClassificationRate(tn, fp, fn, tp, p, n))"
   ]
  },
  {
   "cell_type": "code",
   "execution_count": 271,
   "id": "12f92c86",
   "metadata": {},
   "outputs": [
    {
     "name": "stdout",
     "output_type": "stream",
     "text": [
      "0.7220675896750094\n"
     ]
    }
   ],
   "source": [
    "#----------------Balanced classification Rate Metric_2-------------------------\n",
    "from sklearn.metrics import balanced_accuracy_score\n",
    "print(balanced_accuracy_score(y_test, y_pred_log))"
   ]
  },
  {
   "cell_type": "code",
   "execution_count": 272,
   "id": "1ebb2c0d",
   "metadata": {},
   "outputs": [],
   "source": [
    "#------------NAIVE BAYES MODEL------------------------------"
   ]
  },
  {
   "cell_type": "code",
   "execution_count": 273,
   "id": "43ad9b74-d58f-4c92-9962-21192fa9b016",
   "metadata": {},
   "outputs": [],
   "source": [
    "X= data.drop(columns=['isfraud'])\n",
    "y=data['isfraud']"
   ]
  },
  {
   "cell_type": "code",
   "execution_count": 274,
   "id": "bbf48336",
   "metadata": {},
   "outputs": [
    {
     "data": {
      "text/plain": [
       "array([[0.00135577, 0.00190372, 0.00249136, ..., 0.25      , 0.64023619,\n",
       "        0.98919649],\n",
       "       [0.00133198, 0.00190287, 0.00248656, ..., 0.25      , 0.52551666,\n",
       "        0.98717083],\n",
       "       [0.00139746, 0.00203878, 0.00263326, ..., 0.25      , 0.49978912,\n",
       "        0.99493585],\n",
       "       ...,\n",
       "       [0.00175519, 0.49751549, 0.4978073 , ..., 0.25      , 0.72332349,\n",
       "        0.03376097],\n",
       "       [0.00165362, 0.30575145, 0.30616654, ..., 0.25      , 0.59763813,\n",
       "        0.03106009],\n",
       "       [0.00133774, 0.19661291, 0.19705523, ..., 0.25      , 0.89962041,\n",
       "        0.97197839]])"
      ]
     },
     "execution_count": 274,
     "metadata": {},
     "output_type": "execute_result"
    }
   ],
   "source": [
    "#scaler = StandardScaler()\n",
    "scaler = MinMaxScaler()\n",
    "X_scaled = scaler.fit_transform(X)\n",
    "X_scaled"
   ]
  },
  {
   "cell_type": "code",
   "execution_count": null,
   "id": "844efc39",
   "metadata": {},
   "outputs": [],
   "source": []
  },
  {
   "cell_type": "code",
   "execution_count": 275,
   "id": "a9a346a7",
   "metadata": {},
   "outputs": [],
   "source": [
    "#X_train, X_test, y_train, y_test = train_test_split(X_scaled, Y, test_size=0.2, random_state=42)\n",
    "X_train, X_test, y_train, y_test = train_test_split(X_scaled, y, test_size = 0.3, random_state = 42)"
   ]
  },
  {
   "cell_type": "code",
   "execution_count": 276,
   "id": "5c97fa9e",
   "metadata": {},
   "outputs": [],
   "source": [
    "from sklearn.preprocessing import MinMaxScaler\n",
    "from sklearn.naive_bayes import GaussianNB"
   ]
  },
  {
   "cell_type": "code",
   "execution_count": 277,
   "id": "20b8dbae",
   "metadata": {},
   "outputs": [],
   "source": [
    "Gaussian = GaussianNB()\n",
    "Gaussian.fit(X_train, y_train)\n",
    "\n",
    "y_pred_Bay = Gaussian.predict(X_test)"
   ]
  },
  {
   "cell_type": "code",
   "execution_count": 278,
   "id": "582c6232",
   "metadata": {},
   "outputs": [
    {
     "data": {
      "text/plain": [
       "array([1, 0, 0, ..., 1, 1, 1], dtype=int64)"
      ]
     },
     "execution_count": 278,
     "metadata": {},
     "output_type": "execute_result"
    }
   ],
   "source": [
    "y_pred_Bay"
   ]
  },
  {
   "cell_type": "code",
   "execution_count": 279,
   "id": "42d6bd77",
   "metadata": {},
   "outputs": [
    {
     "data": {
      "text/plain": [
       "107458    0\n",
       "205484    0\n",
       "388970    0\n",
       "854732    1\n",
       "41832     0\n",
       "         ..\n",
       "90910     0\n",
       "738267    1\n",
       "388114    0\n",
       "886727    1\n",
       "829502    1\n",
       "Name: isfraud, Length: 267441, dtype: int64"
      ]
     },
     "execution_count": 279,
     "metadata": {},
     "output_type": "execute_result"
    }
   ],
   "source": [
    "y_test"
   ]
  },
  {
   "cell_type": "code",
   "execution_count": 280,
   "id": "c1423dbb",
   "metadata": {},
   "outputs": [
    {
     "name": "stdout",
     "output_type": "stream",
     "text": [
      "Accuracy score : 72.55 %\n"
     ]
    }
   ],
   "source": [
    "#-------------Accuracy Score Metric-----------------------------\n",
    "y_pred_Bay = Gaussian.predict(X_test)\n",
    "# Predict probabilities for the test set\n",
    "y_pred_probs = Gaussian.predict_proba(X_test)\n",
    "print(\"Accuracy score :\", round(accuracy_score(y_test, y_pred_Bay)*100, 2), \"%\")"
   ]
  },
  {
   "cell_type": "code",
   "execution_count": 281,
   "id": "aa656c41",
   "metadata": {},
   "outputs": [],
   "source": [
    "#from sklearn.metrics import accuracy_score, f1_score, precision_score, recall_score\n",
    "#print('F-1 score : ', (f1_score(y_test, y_pred, average='micro')))\n",
    "#print('Precision score : ', (precision_score(y_test, y_pred, average='micro')))\n",
    "#print('Recall score : ', (recall_score(y_test, y_pred, average='micro')))"
   ]
  },
  {
   "cell_type": "code",
   "execution_count": 282,
   "id": "eb940f5c",
   "metadata": {},
   "outputs": [
    {
     "name": "stdout",
     "output_type": "stream",
     "text": [
      "0.5578409551482983\n"
     ]
    }
   ],
   "source": [
    "#----------------Matthews Correlation coefficient Metric-------------------------\n",
    "from sklearn.metrics import f1_score, matthews_corrcoef, confusion_matrix\n",
    "\n",
    "print(matthews_corrcoef(y_test, y_pred_Bay))"
   ]
  },
  {
   "cell_type": "code",
   "execution_count": 283,
   "id": "f3bffaf6",
   "metadata": {},
   "outputs": [
    {
     "name": "stdout",
     "output_type": "stream",
     "text": [
      "              precision    recall  f1-score   support\n",
      "\n",
      "           0       0.99      0.52      0.68    150841\n",
      "           1       0.61      1.00      0.76    116600\n",
      "\n",
      "    accuracy                           0.73    267441\n",
      "   macro avg       0.80      0.76      0.72    267441\n",
      "weighted avg       0.83      0.73      0.71    267441\n",
      "\n"
     ]
    }
   ],
   "source": [
    "#----------------------Classification Report------------------------------\n",
    "from sklearn.metrics import classification_report\n",
    "\n",
    "# Assuming you have the true labels in y_true and predicted labels in y_pred\n",
    "# Replace y_true and y_pred with your actual data\n",
    "\n",
    "# Compute the classification report\n",
    "report = classification_report(y_test, y_pred_Bay)\n",
    "\n",
    "# Print the report\n",
    "print(report)"
   ]
  },
  {
   "cell_type": "code",
   "execution_count": 284,
   "id": "f03bc0f6",
   "metadata": {},
   "outputs": [
    {
     "data": {
      "image/png": "[encoded data removed]",
      "text/plain": [
       "<Figure size 640x480 with 2 Axes>"
      ]
     },
     "metadata": {},
     "output_type": "display_data"
    }
   ],
   "source": [
    "#------------------Confusion Matrix----------------------------------\n",
    "from sklearn.metrics import confusion_matrix\n",
    "\n",
    "# Assuming you have the true labels in y_true and predicted labels in y_pred\n",
    "# Replace y_true and y_pred with your actual data\n",
    "\n",
    "# Compute the confusion matrix\n",
    "cm = confusion_matrix(y_test, y_pred_Bay)\n",
    "\n",
    "# Create a heatmap of the confusion matrix using seaborn\n",
    "sns.heatmap(cm, annot=True, fmt=\"d\", cmap=\"Blues\")\n",
    "\n",
    "# Set labels, title, and axis ticks\n",
    "plt.xlabel(\"Predicted\")\n",
    "plt.ylabel(\"True\")\n",
    "plt.title(\"Confusion Matrix\")\n",
    "\n",
    "# Show the plot\n",
    "#1 = Fraud, 0 = Not Fraud\n",
    "plt.show()"
   ]
  },
  {
   "cell_type": "code",
   "execution_count": 285,
   "id": "4be20a91",
   "metadata": {},
   "outputs": [
    {
     "data": {
      "text/plain": [
       "array([[ 77974,  72867],\n",
       "       [   540, 116060]], dtype=int64)"
      ]
     },
     "execution_count": 285,
     "metadata": {},
     "output_type": "execute_result"
    }
   ],
   "source": [
    "cm = confusion_matrix(y_test, y_pred_Bay)\n",
    "cm"
   ]
  },
  {
   "cell_type": "code",
   "execution_count": 286,
   "id": "e191971d",
   "metadata": {},
   "outputs": [
    {
     "data": {
      "text/plain": [
       "'BalancedClassificationRate: 0.22684350846379348'"
      ]
     },
     "execution_count": 286,
     "metadata": {},
     "output_type": "execute_result"
    }
   ],
   "source": [
    "#----------------Balanced classification Rate Metric-------------------------\n",
    "tn, fp, fn, tp = cm.ravel()\n",
    "n = len(data[data['isfraud']==0])\n",
    "p = len(data[data['isfraud']==1])\n",
    "\n",
    "def balancedClassificationRate(tn, fp, fn, tp, p, n):\n",
    " return 0.5*(tp/p + tn/n)\n",
    "\n",
    "\"BalancedClassificationRate: {0}\".format(balancedClassificationRate(tn, fp, fn, tp, p, n))"
   ]
  },
  {
   "cell_type": "code",
   "execution_count": 287,
   "id": "1d52bccd",
   "metadata": {},
   "outputs": [
    {
     "name": "stdout",
     "output_type": "stream",
     "text": [
      "0.7561486017395233\n"
     ]
    }
   ],
   "source": [
    "#----------------Balanced classification Rate Metric_2-------------------------\n",
    "from sklearn.metrics import balanced_accuracy_score\n",
    "print(balanced_accuracy_score(y_test, y_pred_Bay))"
   ]
  },
  {
   "cell_type": "code",
   "execution_count": 288,
   "id": "2f6458d5",
   "metadata": {},
   "outputs": [],
   "source": [
    "#------------K-NEAREST NEIGHBOR MODEL------------------------------------"
   ]
  },
  {
   "cell_type": "code",
   "execution_count": 289,
   "id": "04e31ad7-4a61-435a-801b-1c2b0f10ddb3",
   "metadata": {},
   "outputs": [],
   "source": [
    "X= data.drop(columns=['isfraud'])\n",
    "y=data['isfraud']"
   ]
  },
  {
   "cell_type": "code",
   "execution_count": 290,
   "id": "93f281c0",
   "metadata": {},
   "outputs": [],
   "source": [
    "#X_train, X_test, y_train, y_test = train_test_split(X_scaled, Y, test_size=0.2, random_state=42)\n",
    "X_train, X_test, y_train, y_test = train_test_split(X, y, test_size = 0.3, random_state = 0)"
   ]
  },
  {
   "cell_type": "code",
   "execution_count": 291,
   "id": "d1e7e32e",
   "metadata": {},
   "outputs": [
    {
     "data": {
      "text/html": [
       "<style>#sk-container-id-6 {color: black;background-color: white;}#sk-container-id-6 pre{padding: 0;}#sk-container-id-6 div.sk-toggleable {background-color: white;}#sk-container-id-6 label.sk-toggleable__label {cursor: pointer;display: block;width: 100%;margin-bottom: 0;padding: 0.3em;box-sizing: border-box;text-align: center;}#sk-container-id-6 label.sk-toggleable__label-arrow:before {content: \"▸\";float: left;margin-right: 0.25em;color: #696969;}#sk-container-id-6 label.sk-toggleable__label-arrow:hover:before {color: black;}#sk-container-id-6 div.sk-estimator:hover label.sk-toggleable__label-arrow:before {color: black;}#sk-container-id-6 div.sk-toggleable__content {max-height: 0;max-width: 0;overflow: hidden;text-align: left;background-color: #f0f8ff;}#sk-container-id-6 div.sk-toggleable__content pre {margin: 0.2em;color: black;border-radius: 0.25em;background-color: #f0f8ff;}#sk-container-id-6 input.sk-toggleable__control:checked~div.sk-toggleable__content {max-height: 200px;max-width: 100%;overflow: auto;}#sk-container-id-6 input.sk-toggleable__control:checked~label.sk-toggleable__label-arrow:before {content: \"▾\";}#sk-container-id-6 div.sk-estimator input.sk-toggleable__control:checked~label.sk-toggleable__label {background-color: #d4ebff;}#sk-container-id-6 div.sk-label input.sk-toggleable__control:checked~label.sk-toggleable__label {background-color: #d4ebff;}#sk-container-id-6 input.sk-hidden--visually {border: 0;clip: rect(1px 1px 1px 1px);clip: rect(1px, 1px, 1px, 1px);height: 1px;margin: -1px;overflow: hidden;padding: 0;position: absolute;width: 1px;}#sk-container-id-6 div.sk-estimator {font-family: monospace;background-color: #f0f8ff;border: 1px dotted black;border-radius: 0.25em;box-sizing: border-box;margin-bottom: 0.5em;}#sk-container-id-6 div.sk-estimator:hover {background-color: #d4ebff;}#sk-container-id-6 div.sk-parallel-item::after {content: \"\";width: 100%;border-bottom: 1px solid gray;flex-grow: 1;}#sk-container-id-6 div.sk-label:hover label.sk-toggleable__label {background-color: #d4ebff;}#sk-container-id-6 div.sk-serial::before {content: \"\";position: absolute;border-left: 1px solid gray;box-sizing: border-box;top: 0;bottom: 0;left: 50%;z-index: 0;}#sk-container-id-6 div.sk-serial {display: flex;flex-direction: column;align-items: center;background-color: white;padding-right: 0.2em;padding-left: 0.2em;position: relative;}#sk-container-id-6 div.sk-item {position: relative;z-index: 1;}#sk-container-id-6 div.sk-parallel {display: flex;align-items: stretch;justify-content: center;background-color: white;position: relative;}#sk-container-id-6 div.sk-item::before, #sk-container-id-6 div.sk-parallel-item::before {content: \"\";position: absolute;border-left: 1px solid gray;box-sizing: border-box;top: 0;bottom: 0;left: 50%;z-index: -1;}#sk-container-id-6 div.sk-parallel-item {display: flex;flex-direction: column;z-index: 1;position: relative;background-color: white;}#sk-container-id-6 div.sk-parallel-item:first-child::after {align-self: flex-end;width: 50%;}#sk-container-id-6 div.sk-parallel-item:last-child::after {align-self: flex-start;width: 50%;}#sk-container-id-6 div.sk-parallel-item:only-child::after {width: 0;}#sk-container-id-6 div.sk-dashed-wrapped {border: 1px dashed gray;margin: 0 0.4em 0.5em 0.4em;box-sizing: border-box;padding-bottom: 0.4em;background-color: white;}#sk-container-id-6 div.sk-label label {font-family: monospace;font-weight: bold;display: inline-block;line-height: 1.2em;}#sk-container-id-6 div.sk-label-container {text-align: center;}#sk-container-id-6 div.sk-container {/* jupyter's `normalize.less` sets `[hidden] { display: none; }` but bootstrap.min.css set `[hidden] { display: none !important; }` so we also need the `!important` here to be able to override the default hidden behavior on the sphinx rendered scikit-learn.org. See: https://github.com/scikit-learn/scikit-learn/issues/21755 */display: inline-block !important;position: relative;}#sk-container-id-6 div.sk-text-repr-fallback {display: none;}</style><div id=\"sk-container-id-6\" class=\"sk-top-container\"><div class=\"sk-text-repr-fallback\"><pre>KNeighborsClassifier()</pre><b>In a Jupyter environment, please rerun this cell to show the HTML representation or trust the notebook. <br />On GitHub, the HTML representation is unable to render, please try loading this page with nbviewer.org.</b></div><div class=\"sk-container\" hidden><div class=\"sk-item\"><div class=\"sk-estimator sk-toggleable\"><input class=\"sk-toggleable__control sk-hidden--visually\" id=\"sk-estimator-id-6\" type=\"checkbox\" checked><label for=\"sk-estimator-id-6\" class=\"sk-toggleable__label sk-toggleable__label-arrow\">KNeighborsClassifier</label><div class=\"sk-toggleable__content\"><pre>KNeighborsClassifier()</pre></div></div></div></div></div>"
      ],
      "text/plain": [
       "KNeighborsClassifier()"
      ]
     },
     "execution_count": 291,
     "metadata": {},
     "output_type": "execute_result"
    }
   ],
   "source": [
    "from sklearn.neighbors import KNeighborsClassifier\n",
    "KNN = KNeighborsClassifier(n_neighbors=5)\n",
    "KNN.fit(X_train, y_train)"
   ]
  },
  {
   "cell_type": "code",
   "execution_count": 292,
   "id": "49cb0ee7",
   "metadata": {},
   "outputs": [],
   "source": [
    "#from sklearn.neighbors import KNeighborsClassifier\n",
    "#KNN = KNeighborsClassifier(algorithm='auto',leaf_size=30, metric='minkowaki', metric_params=None, n_jobs=None, n_neighbors=5, p=2, weights='uniform')\n",
    "#KNN.fit(X_train, y_train)"
   ]
  },
  {
   "cell_type": "code",
   "execution_count": 293,
   "id": "f51ff61b",
   "metadata": {},
   "outputs": [
    {
     "name": "stdout",
     "output_type": "stream",
     "text": [
      "Accuracy score : 72.65 %\n"
     ]
    }
   ],
   "source": [
    "#-------------Accuracy Score Metric-----------------------------\n",
    "y_pred_knn = KNN.predict(X_test)\n",
    "# Predict probabilities for the test set\n",
    "y_pred_probs = KNN.predict_proba(X_test)\n",
    "print(\"Accuracy score :\", round(accuracy_score(y_test, y_pred_knn)*100, 2), \"%\")"
   ]
  },
  {
   "cell_type": "code",
   "execution_count": 294,
   "id": "54cd7097",
   "metadata": {},
   "outputs": [
    {
     "name": "stdout",
     "output_type": "stream",
     "text": [
      "0.44763651559599393\n"
     ]
    }
   ],
   "source": [
    "#----------------Matthews Correlation coefficient Metric-------------------------\n",
    "from sklearn.metrics import f1_score, matthews_corrcoef, confusion_matrix\n",
    "\n",
    "print(matthews_corrcoef(y_test, y_pred_knn))"
   ]
  },
  {
   "cell_type": "code",
   "execution_count": 295,
   "id": "b8c54abb",
   "metadata": {},
   "outputs": [
    {
     "name": "stdout",
     "output_type": "stream",
     "text": [
      "              precision    recall  f1-score   support\n",
      "\n",
      "           0       0.77      0.74      0.75    150847\n",
      "           1       0.68      0.71      0.69    116594\n",
      "\n",
      "    accuracy                           0.73    267441\n",
      "   macro avg       0.72      0.72      0.72    267441\n",
      "weighted avg       0.73      0.73      0.73    267441\n",
      "\n"
     ]
    }
   ],
   "source": [
    "#----------------------Classification Report------------------------------\n",
    "from sklearn.metrics import classification_report, confusion_matrix\n",
    "print(classification_report(y_test, y_pred_knn))"
   ]
  },
  {
   "cell_type": "code",
   "execution_count": 296,
   "id": "289590e5",
   "metadata": {},
   "outputs": [],
   "source": [
    "#print (confusion_matrix(y_test, y_pred))"
   ]
  },
  {
   "cell_type": "code",
   "execution_count": 297,
   "id": "ba763236",
   "metadata": {},
   "outputs": [
    {
     "data": {
      "image/png": "[encoded data removed]",
      "text/plain": [
       "<Figure size 640x480 with 2 Axes>"
      ]
     },
     "metadata": {},
     "output_type": "display_data"
    }
   ],
   "source": [
    "#------------------Confusion Matrix----------------------------------\n",
    "from sklearn.metrics import confusion_matrix\n",
    "\n",
    "# Assuming you have the true labels in y_true and predicted labels in y_pred\n",
    "# Replace y_true and y_pred with your actual data\n",
    "\n",
    "# Compute the confusion matrix\n",
    "cm = confusion_matrix(y_test, y_pred_knn)\n",
    "\n",
    "# Create a heatmap of the confusion matrix using seaborn\n",
    "sns.heatmap(cm, annot=True, fmt=\"d\", cmap=\"Blues\")\n",
    "\n",
    "# Set labels, title, and axis ticks\n",
    "plt.xlabel(\"Predicted\")\n",
    "plt.ylabel(\"True\")\n",
    "plt.title(\"Confusion Matrix\")\n",
    "\n",
    "# Show the plot\n",
    "#1 = Fraud, 0 = Not Fraud\n",
    "plt.show()"
   ]
  },
  {
   "cell_type": "code",
   "execution_count": 298,
   "id": "04864949",
   "metadata": {},
   "outputs": [
    {
     "data": {
      "text/plain": [
       "array([[111184,  39663],\n",
       "       [ 33489,  83105]], dtype=int64)"
      ]
     },
     "execution_count": 298,
     "metadata": {},
     "output_type": "execute_result"
    }
   ],
   "source": [
    "cm = confusion_matrix(y_test, y_pred_knn)\n",
    "cm"
   ]
  },
  {
   "cell_type": "code",
   "execution_count": 299,
   "id": "841fe7bf",
   "metadata": {},
   "outputs": [
    {
     "data": {
      "text/plain": [
       "'BalancedClassificationRate: 0.21747440695280568'"
      ]
     },
     "execution_count": 299,
     "metadata": {},
     "output_type": "execute_result"
    }
   ],
   "source": [
    "#----------------Balanced classification Rate Metric-------------------------\n",
    "tn, fp, fn, tp = cm.ravel()\n",
    "n = len(data[data['isfraud']==0])\n",
    "p = len(data[data['isfraud']==1])\n",
    "\n",
    "def balancedClassificationRate(tn, fp, fn, tp, p, n):\n",
    " return 0.5*(tp/p + tn/n)\n",
    "\n",
    "\"BalancedClassificationRate: {0}\".format(balancedClassificationRate(tn, fp, fn, tp, p, n))"
   ]
  },
  {
   "cell_type": "code",
   "execution_count": 300,
   "id": "ac108a6f",
   "metadata": {},
   "outputs": [
    {
     "name": "stdout",
     "output_type": "stream",
     "text": [
      "0.724918617418645\n"
     ]
    }
   ],
   "source": [
    "#----------------Balanced classification Rate Metric_2-------------------------\n",
    "from sklearn.metrics import balanced_accuracy_score\n",
    "print(balanced_accuracy_score(y_test, y_pred_knn))"
   ]
  },
  {
   "cell_type": "code",
   "execution_count": 301,
   "id": "e846276c",
   "metadata": {},
   "outputs": [],
   "source": [
    "from sklearn.preprocessing import label_binarize\n",
    "\n",
    "#y_test_binarized=label_binarize(y_test, classes=np.unique(y_test))"
   ]
  },
  {
   "cell_type": "code",
   "execution_count": 302,
   "id": "2ba17dd2",
   "metadata": {
    "scrolled": true
   },
   "outputs": [
    {
     "name": "stdout",
     "output_type": "stream",
     "text": [
      "ROC AUC=0.82\n",
      "ROC AUC=0.74\n",
      "ROC AUC=0.83\n"
     ]
    },
    {
     "data": {
      "text/plain": [
       "<matplotlib.legend.Legend at 0x198822f9250>"
      ]
     },
     "execution_count": 302,
     "metadata": {},
     "output_type": "execute_result"
    },
    {
     "data": {
      "image/png": "[encoded data removed]",
      "text/plain": [
       "<Figure size 640x480 with 1 Axes>"
      ]
     },
     "metadata": {},
     "output_type": "display_data"
    }
   ],
   "source": [
    "import matplotlib.pyplot as plt\n",
    "from sklearn.metrics import roc_curve, auc\n",
    "\n",
    "def plot_roc(xtest,ytest,models):\n",
    "\n",
    "    for name,model in models.items():\n",
    "\n",
    "        if hasattr(model,'decision_function'):\n",
    "            probs=model.decision_function(xtest)\n",
    "        elif hasattr(model,'predict_proba'):\n",
    "            probs=model.predict_proba(xtest) [:,1]\n",
    "        fpr,tpr,threshold=roc_curve(ytest,probs)\n",
    "        roc_auc=auc(fpr,tpr)\n",
    "        print('ROC AUC=%0.2f'%roc_auc)\n",
    "        plt.plot(fpr,tpr,label='%s (AUC=%0.2f)'%(name,roc_auc))\n",
    "\n",
    "#plt.legend([\"This is my legend\"], fontsize=\"x-large\")\n",
    "plt.plot([0, 1],[0, 1],'k--')\n",
    "plt.xlim([0,1])\n",
    "plt.ylim([0,1.05])\n",
    "plt.title('Multiclass Receiver Operating Characteristic (ROC) Curve')\n",
    "plt.xlabel('False Postive Rate')\n",
    "plt.ylabel('True Postive Rate')\n",
    "\n",
    "models={'KNearestNeighbor':KNN, 'GaussianNB':Gaussian, 'LogisticRegression':LogisticR}\n",
    "plot_roc(X_test, y_test,models)\n",
    "plt.legend(loc='lower right')\n",
    "\n"
   ]
  }
 ],
 "metadata": {
  "kernelspec": {
   "display_name": "Python 3 (ipykernel)",
   "language": "python",
   "name": "python3"
  },
  "language_info": {
   "codemirror_mode": {
    "name": "ipython",
    "version": 3
   },
   "file_extension": ".py",
   "mimetype": "text/x-python",
   "name": "python",
   "nbconvert_exporter": "python",
   "pygments_lexer": "ipython3",
   "version": "3.11.3"
  }
 },
 "nbformat": 4,
 "nbformat_minor": 5
}
